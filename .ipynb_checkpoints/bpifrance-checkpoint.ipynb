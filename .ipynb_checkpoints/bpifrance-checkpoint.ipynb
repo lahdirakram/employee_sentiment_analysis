{
 "cells": [
  {
   "cell_type": "code",
   "execution_count": 1,
   "metadata": {},
   "outputs": [],
   "source": [
    "from bs4 import BeautifulSoup\n",
    "import requests\n",
    "import re\n",
    "import pandas as pd\n",
    "import numpy as np"
   ]
  },
  {
   "cell_type": "markdown",
   "metadata": {},
   "source": [
    "# Analyse de sentiments :"
   ]
  },
  {
   "cell_type": "markdown",
   "metadata": {},
   "source": [
    "### 1 Recuperation des données :\n",
    "   \n",
    "   recuperation des avis des employées de **BpiFrance** a partir de 4 site internet en utilisant la librairie de scraping **BeautifulSoup** sur python \n",
    " \n",
    "   \n",
    "   (https://choosemycompany.com/, https://www.linkfinance.fr/, https://fr.indeed.com/, https://www.glassdoor.fr/) \n",
    "    \n",
    "    "
   ]
  },
  {
   "cell_type": "code",
   "execution_count": 5,
   "metadata": {},
   "outputs": [],
   "source": [
    "# 1ere source \n",
    "link = 'https://choosemycompany.com/fr/avis-certifies/bpifrance/questions-reponses/46.qu-est-ce-qui-vous-plait-le-plus-dans-votre-entreprise'\n",
    "page = requests.get(link) \n",
    "soup = BeautifulSoup(page.content, 'html.parser' , from_encoding='UTF-8')\n",
    "avis_choosemycompany = soup.select('blockquote', class_='verbatim-answer', style='')\n",
    "avis_choosemycompany = [a.get_text(strip=True) for a in avis_choosemycompany]"
   ]
  },
  {
   "cell_type": "code",
   "execution_count": 6,
   "metadata": {},
   "outputs": [
    {
     "data": {
      "text/plain": [
       "'Bonne satisfaction'"
      ]
     },
     "execution_count": 6,
     "metadata": {},
     "output_type": "execute_result"
    }
   ],
   "source": [
    "# cette fonction nettoie le texte renvoyé par le site linkfinance.fr\n",
    "# ex : “Bilan : Bonne satisfaction” = Bonne satisfaction\n",
    "def link_finance_correct(avis):\n",
    "    avis = re.sub(r'(^(“)|(”)$)', ' ', avis).strip()\n",
    "    return re.sub(r'Bilan :', ' ', avis).strip()\n",
    "\n",
    "link_finance_correct(\"“Bilan : Bonne satisfaction”\")"
   ]
  },
  {
   "cell_type": "code",
   "execution_count": 7,
   "metadata": {},
   "outputs": [],
   "source": [
    "# 2eme source\n",
    "link = 'https://www.linkfinance.fr/avis-BPI-France-(ex-Oseo)-r-41.html#top'\n",
    "page = requests.get(link) \n",
    "soup = BeautifulSoup(page.content, 'html.parser' , from_encoding='UTF-8')\n",
    "      \n",
    "avis_linkfinance = soup.find_all('h2', class_='titre-avis', style='')\n",
    "avis_linkfinance = [link_finance_correct(a.get_text(strip=True)) for a in avis_linkfinance]"
   ]
  },
  {
   "cell_type": "code",
   "execution_count": 8,
   "metadata": {},
   "outputs": [],
   "source": [
    "# 3eme source\n",
    "avis_indeed=[]\n",
    "for page in range(3):\n",
    "    link = 'https://fr.indeed.com/cmp/Bpifrance/reviews?fcountry=ALL&start='+str(page*20)\n",
    "    page = requests.get(link) \n",
    "    soup = BeautifulSoup(page.content, 'html.parser' , from_encoding='UTF-8')\n",
    "\n",
    "    avis_indeed_soup = soup.find_all('div', class_='cmp-Review-text', style='')\n",
    "    avis_indeed.extend([a.get_text(strip=True) for a in avis_indeed_soup]) "
   ]
  },
  {
   "cell_type": "code",
   "execution_count": 2,
   "metadata": {},
   "outputs": [],
   "source": [
    "# 4eme source \n",
    "avis_glassdoor_neg = pd.read_json('neg_data.json')[0].values\n",
    "avis_glassdoor_pos = pd.read_json('pos_data.json')[0].values"
   ]
  },
  {
   "cell_type": "markdown",
   "metadata": {},
   "source": [
    "### 2 Organisation des données :"
   ]
  },
  {
   "cell_type": "code",
   "execution_count": 10,
   "metadata": {},
   "outputs": [],
   "source": [
    "# creation d'un data frame qui contient chaque avis avec son sentiment (positive, negative)\n",
    "# ce dataset va etre utilisé pour l'entrainement d'un algorithme de machine learning \n",
    "negative_labeled = [(avis_,'neg') for avis_ in avis_glassdoor_neg.tolist()]\n",
    "potitive_labeled = [(avis_,'pos') for avis_ in avis_glassdoor_pos.tolist()]\n",
    "\n",
    "dataset = pd.DataFrame(negative_labeled+potitive_labeled,columns=['text','sentiment'])"
   ]
  },
  {
   "cell_type": "code",
   "execution_count": 11,
   "metadata": {},
   "outputs": [
    {
     "data": {
      "text/plain": [
       "(378, 2)"
      ]
     },
     "execution_count": 11,
     "metadata": {},
     "output_type": "execute_result"
    }
   ],
   "source": [
    "dataset.shape"
   ]
  },
  {
   "cell_type": "code",
   "execution_count": 12,
   "metadata": {},
   "outputs": [],
   "source": [
    "# creation d'un 2eme dataset qui contient les avis recupérer sans sentiment (a prédire par l'algorithme entrainé) \n",
    "non_labeled_dataset = avis_indeed + avis_linkfinance + avis_choosemycompany"
   ]
  },
  {
   "cell_type": "code",
   "execution_count": 13,
   "metadata": {},
   "outputs": [
    {
     "data": {
      "text/plain": [
       "274"
      ]
     },
     "execution_count": 13,
     "metadata": {},
     "output_type": "execute_result"
    }
   ],
   "source": [
    "#taille\n",
    "len(non_labeled_dataset)"
   ]
  },
  {
   "cell_type": "markdown",
   "metadata": {},
   "source": [
    "### 3 Word2vec (representation des phrases en format numerique):"
   ]
  },
  {
   "cell_type": "code",
   "execution_count": 17,
   "metadata": {},
   "outputs": [],
   "source": [
    "# creation d'un encodeur des phrases en vecteur de 200 dimention en utilisant le model deja entrainé word2vec \n",
    "# qui attribut a chaque mot de la phrase un vecteur de 200 dimention, le vecteur de la phrase est la moyenne \n",
    "# de tout les vecteur de mot qui la compose \n",
    "\n",
    "from sklearn.base import BaseEstimator, TransformerMixin\n",
    "from gensim.models import KeyedVectors\n",
    "\n",
    "class Vectorizer(BaseEstimator, TransformerMixin):\n",
    "\n",
    "    def __init__(self, agg_method='mean',w2v=None, normalize=False):\n",
    "        self.agg_method = agg_method\n",
    "        self.normalize = normalize\n",
    "        self.word2vec = w2v\n",
    "\n",
    "    def vectorize(self, tokens):\n",
    "\n",
    "        vectors = np.array([self.word2vec[t] for t in tokens if t in self.word2vec.vocab])\n",
    "\n",
    "        if len(vectors) == 0:\n",
    "            sentence_embedding = np.zeros_like(self.word2vec.word2vec['roi'])\n",
    "        elif len(vectors) == 1:\n",
    "            sentence_embedding = np.squeeze(vectors)\n",
    "        elif len(vectors) > 1:\n",
    "            if self.agg_method == 'mean':\n",
    "                sentence_embedding = np.mean(vectors, axis=0)\n",
    "            elif self.agg_method == 'max':\n",
    "                sentence_embedding = np.max(vectors, axis=0)\n",
    "            elif self.agg_method == 'sum':\n",
    "                sentence_embedding = np.sum(vectors, axis=0)\n",
    "        return sentence_embedding\n",
    "\n",
    "    def _vectorize(self, tokens):\n",
    "        return vectorize(tokens)\n",
    "\n",
    "    def fit(self, X, y=None):\n",
    "        return self\n",
    "\n",
    "    def transform(self, X, y=None, eps=1e-12):\n",
    "        X = self.text_processing(X)\n",
    "        X = [self.vectorize(t) for t in X]\n",
    "        X = np.array(X)\n",
    "\n",
    "        if self.normalize:\n",
    "            X = X / np.linalg.norm(X + eps, axis=1, keepdims=True)\n",
    "        return X\n",
    "    def text_processing(self,X):\n",
    "        tokenizer = TfidfVectorizer().build_tokenizer()\n",
    "        return [tokenizer(document.lower()) for document in X]\n",
    "        "
   ]
  },
  {
   "cell_type": "code",
   "execution_count": 15,
   "metadata": {},
   "outputs": [],
   "source": [
    "# telechargement de word2vec\n",
    "model_link='https://s3.us-east-2.amazonaws.com/embeddings.net/embeddings/frWac_non_lem_no_postag_no_phrase_200_cbow_cut100.bin'\n",
    "word2vec = KeyedVectors.load_word2vec_format(model_link, binary=True)"
   ]
  },
  {
   "cell_type": "code",
   "execution_count": 18,
   "metadata": {},
   "outputs": [
    {
     "data": {
      "text/plain": [
       "(378,)"
      ]
     },
     "execution_count": 18,
     "metadata": {},
     "output_type": "execute_result"
    }
   ],
   "source": [
    "# preparation des données pour l'entrainnement \n",
    "\n",
    "# encodage des phrases\n",
    "encodeur = Vectorizer(w2v=word2vec,normalize=False)\n",
    "X = encodeur.fit_transform(dataset['text'].values)\n",
    "X.shape\n",
    "\n",
    "#encodage des sentiments (positive = 1, negative = -1)\n",
    "Y = dataset.sentiment.apply(lambda x: 1 if x == 'pos' else -1)\n",
    "Y.shape"
   ]
  },
  {
   "cell_type": "markdown",
   "metadata": {},
   "source": [
    "### 4 Entrainement :"
   ]
  },
  {
   "cell_type": "code",
   "execution_count": 19,
   "metadata": {},
   "outputs": [],
   "source": [
    "from sklearn.model_selection import train_test_split\n",
    "train_x, test_x, train_y, test_y = train_test_split(X,Y,train_size=0.9)"
   ]
  },
  {
   "cell_type": "code",
   "execution_count": 20,
   "metadata": {},
   "outputs": [
    {
     "data": {
      "text/plain": [
       "SVC()"
      ]
     },
     "execution_count": 20,
     "metadata": {},
     "output_type": "execute_result"
    }
   ],
   "source": [
    "from sklearn.svm import SVC\n",
    "\n",
    "svc = SVC()\n",
    "svc.fit(train_x,train_y)"
   ]
  },
  {
   "cell_type": "code",
   "execution_count": 21,
   "metadata": {},
   "outputs": [
    {
     "data": {
      "text/plain": [
       "RandomForestClassifier()"
      ]
     },
     "execution_count": 21,
     "metadata": {},
     "output_type": "execute_result"
    }
   ],
   "source": [
    "from sklearn.ensemble import RandomForestClassifier\n",
    "\n",
    "rand_for = RandomForestClassifier()\n",
    "rand_for.fit(train_x,train_y)"
   ]
  },
  {
   "cell_type": "markdown",
   "metadata": {},
   "source": [
    "### 5 Resultats:"
   ]
  },
  {
   "cell_type": "code",
   "execution_count": 22,
   "metadata": {},
   "outputs": [
    {
     "name": "stdout",
     "output_type": "stream",
     "text": [
      "SVC :  0.9736842105263158\n",
      "RandomForestClassifier :  0.9210526315789473\n"
     ]
    }
   ],
   "source": [
    "from sklearn.metrics import accuracy_score\n",
    "\n",
    "svc_score = accuracy_score(svc.predict(test_x),test_y)\n",
    "print(\"SVC : \",svc_score)\n",
    "\n",
    "rf_score = accuracy_score(rand_for.predict(test_x),test_y)\n",
    "print(\"RandomForestClassifier : \",rf_score)\n"
   ]
  },
  {
   "cell_type": "code",
   "execution_count": 23,
   "metadata": {},
   "outputs": [
    {
     "data": {
      "text/plain": [
       "<sklearn.metrics._plot.confusion_matrix.ConfusionMatrixDisplay at 0x7f7f769d1f28>"
      ]
     },
     "execution_count": 23,
     "metadata": {},
     "output_type": "execute_result"
    },
    {
     "data": {
      "image/png": "[encoded data removed]",
      "text/plain": [
       "<Figure size 432x288 with 2 Axes>"
      ]
     },
     "metadata": {
      "needs_background": "light"
     },
     "output_type": "display_data"
    }
   ],
   "source": [
    "from sklearn.metrics import plot_confusion_matrix\n",
    "import matplotlib.pyplot as plt\n",
    "\n",
    "plot_confusion_matrix(svc, test_x, test_y,labels=[1,-1],cmap=plt.cm.Blues,normalize='true')"
   ]
  },
  {
   "cell_type": "markdown",
   "metadata": {},
   "source": [
    "### 6 Utilisation de l'algorithme : "
   ]
  },
  {
   "cell_type": "code",
   "execution_count": 26,
   "metadata": {},
   "outputs": [
    {
     "data": {
      "text/html": [
       "<div>\n",
       "<style scoped>\n",
       "    .dataframe tbody tr th:only-of-type {\n",
       "        vertical-align: middle;\n",
       "    }\n",
       "\n",
       "    .dataframe tbody tr th {\n",
       "        vertical-align: top;\n",
       "    }\n",
       "\n",
       "    .dataframe thead th {\n",
       "        text-align: right;\n",
       "    }\n",
       "</style>\n",
       "<table border=\"1\" class=\"dataframe\">\n",
       "  <thead>\n",
       "    <tr style=\"text-align: right;\">\n",
       "      <th></th>\n",
       "      <th>avis</th>\n",
       "      <th>sentiment</th>\n",
       "    </tr>\n",
       "  </thead>\n",
       "  <tbody>\n",
       "    <tr>\n",
       "      <th>0</th>\n",
       "      <td>Très bonne ambiance, véritable culture d'entreprise, état d'esprit start-up, grande autonomie.Problématiques RH.</td>\n",
       "      <td>1</td>\n",
       "    </tr>\n",
       "    <tr>\n",
       "      <th>1</th>\n",
       "      <td>Entreprise très formatrice, bonne culture d'entreprise.bon management, beaucoup d'avantages au niveau salarial.Bonne ambiance de travail.</td>\n",
       "      <td>1</td>\n",
       "    </tr>\n",
       "    <tr>\n",
       "      <th>2</th>\n",
       "      <td>Environnement de travail agréable au sein de BPIfrance</td>\n",
       "      <td>1</td>\n",
       "    </tr>\n",
       "    <tr>\n",
       "      <th>3</th>\n",
       "      <td>- The workplace is open from 7 am to 7 pm- Great working environment- The team is young, dynamic and friendly- Many things to learn about finance</td>\n",
       "      <td>-1</td>\n",
       "    </tr>\n",
       "    <tr>\n",
       "      <th>4</th>\n",
       "      <td>Management accueillant et dynamique.Bonne opportunités de développement.Contact client quotidien.Journée de travail adaptée à une vie familiale.Bonne ambiance avec les collègues.</td>\n",
       "      <td>1</td>\n",
       "    </tr>\n",
       "    <tr>\n",
       "      <th>...</th>\n",
       "      <td>...</td>\n",
       "      <td>...</td>\n",
       "    </tr>\n",
       "    <tr>\n",
       "      <th>269</th>\n",
       "      <td>- un nombre de deals consÃ?Â©quent- une Ã?Â©quipe expÃ?Â©rimentÃ?Â©e et compÃ?Â©tente- une exposition importante sur les dossiers</td>\n",
       "      <td>-1</td>\n",
       "    </tr>\n",
       "    <tr>\n",
       "      <th>270</th>\n",
       "      <td>Ambiance de travailQualité des relations humainesPeu d'administratif</td>\n",
       "      <td>1</td>\n",
       "    </tr>\n",
       "    <tr>\n",
       "      <th>271</th>\n",
       "      <td>La confiance de ma hiérarchie, tant sur le plan de mon organisation de travail, que sur l'avancement de mes missions.</td>\n",
       "      <td>-1</td>\n",
       "    </tr>\n",
       "    <tr>\n",
       "      <th>272</th>\n",
       "      <td>Des collaborateurs de qualité, aux profils variés et complémentaires, toujours disponibles. Une très bonne ambiance de travail. Un lieu idéal pour faire un stage</td>\n",
       "      <td>1</td>\n",
       "    </tr>\n",
       "    <tr>\n",
       "      <th>273</th>\n",
       "      <td>Ambiance de travail / Sentiment de bien être. Personnalités exceptionnelles et différentes. Entreprise rendue humaine par les personnes qui y travaillent</td>\n",
       "      <td>1</td>\n",
       "    </tr>\n",
       "  </tbody>\n",
       "</table>\n",
       "<p>274 rows × 2 columns</p>\n",
       "</div>"
      ],
      "text/plain": [
       "                                                                                                                                                                                   avis  \\\n",
       "0                                                                      Très bonne ambiance, véritable culture d'entreprise, état d'esprit start-up, grande autonomie.Problématiques RH.   \n",
       "1                                             Entreprise très formatrice, bonne culture d'entreprise.bon management, beaucoup d'avantages au niveau salarial.Bonne ambiance de travail.   \n",
       "2                                                                                                                                Environnement de travail agréable au sein de BPIfrance   \n",
       "3                                     - The workplace is open from 7 am to 7 pm- Great working environment- The team is young, dynamic and friendly- Many things to learn about finance   \n",
       "4    Management accueillant et dynamique.Bonne opportunités de développement.Contact client quotidien.Journée de travail adaptée à une vie familiale.Bonne ambiance avec les collègues.   \n",
       "..                                                                                                                                                                                  ...   \n",
       "269                                                   - un nombre de deals consÃ?Â©quent- une Ã?Â©quipe expÃ?Â©rimentÃ?Â©e et compÃ?Â©tente- une exposition importante sur les dossiers   \n",
       "270                                                                                                                Ambiance de travailQualité des relations humainesPeu d'administratif   \n",
       "271                                                               La confiance de ma hiérarchie, tant sur le plan de mon organisation de travail, que sur l'avancement de mes missions.   \n",
       "272                   Des collaborateurs de qualité, aux profils variés et complémentaires, toujours disponibles. Une très bonne ambiance de travail. Un lieu idéal pour faire un stage   \n",
       "273                           Ambiance de travail / Sentiment de bien être. Personnalités exceptionnelles et différentes. Entreprise rendue humaine par les personnes qui y travaillent   \n",
       "\n",
       "     sentiment  \n",
       "0            1  \n",
       "1            1  \n",
       "2            1  \n",
       "3           -1  \n",
       "4            1  \n",
       "..         ...  \n",
       "269         -1  \n",
       "270          1  \n",
       "271         -1  \n",
       "272          1  \n",
       "273          1  \n",
       "\n",
       "[274 rows x 2 columns]"
      ]
     },
     "execution_count": 26,
     "metadata": {},
     "output_type": "execute_result"
    }
   ],
   "source": [
    "a_predire = encodeur.transform(non_labeled_dataset)\n",
    "\n",
    "predicted = pd.DataFrame({\"avis\":np.array(non_labeled_dataset),\"sentiment\":svc.predict(a_predire)})\n",
    "\n",
    "pd.set_option('max_colwidth', 200)\n",
    "predicted"
   ]
  },
  {
   "cell_type": "code",
   "execution_count": 27,
   "metadata": {},
   "outputs": [
    {
     "data": {
      "text/plain": [
       "array([<AxesSubplot:ylabel='sentiment_count'>], dtype=object)"
      ]
     },
     "execution_count": 27,
     "metadata": {},
     "output_type": "execute_result"
    },
    {
     "data": {
      "image/png": "[encoded data removed]",
      "text/plain": [
       "<Figure size 720x720 with 1 Axes>"
      ]
     },
     "metadata": {},
     "output_type": "display_data"
    }
   ],
   "source": [
    "pd.DataFrame(\n",
    "    predicted['sentiment'].value_counts().values,\n",
    "    columns=['sentiment_count'],\n",
    "    index=['positive','negative']\n",
    ").plot.pie(subplots=True,figsize=(10,10),table=True)"
   ]
  },
  {
   "cell_type": "markdown",
   "metadata": {},
   "source": [
    "# Exploration des topics:"
   ]
  },
  {
   "cell_type": "markdown",
   "metadata": {},
   "source": [
    "### 1 Preparation des données :"
   ]
  },
  {
   "cell_type": "code",
   "execution_count": 33,
   "metadata": {},
   "outputs": [],
   "source": [
    "from spacy.lang.fr.stop_words import STOP_WORDS\n",
    "import spacy\n",
    "from sklearn.feature_extraction.text import TfidfVectorizer  \n",
    "tfidf = TfidfVectorizer(max_features=2000,\n",
    "                        stop_words=STOP_WORDS)"
   ]
  },
  {
   "cell_type": "code",
   "execution_count": 29,
   "metadata": {},
   "outputs": [],
   "source": [
    "dataset2 = non_labeled_dataset + avis_glassdoor_pos.tolist() + avis_glassdoor_neg.tolist() "
   ]
  },
  {
   "cell_type": "code",
   "execution_count": 35,
   "metadata": {},
   "outputs": [],
   "source": [
    "X2 = tfidf.fit_transform(dataset2)"
   ]
  },
  {
   "cell_type": "markdown",
   "metadata": {},
   "source": [
    "### 2 Application de l'algorithme LDA detection de topics:"
   ]
  },
  {
   "cell_type": "code",
   "execution_count": 36,
   "metadata": {},
   "outputs": [
    {
     "data": {
      "text/html": [
       "\n",
       "<link rel=\"stylesheet\" type=\"text/css\" href=\"https://cdn.rawgit.com/bmabey/pyLDAvis/files/ldavis.v1.0.0.css\">\n",
       "\n",
       "\n",
       "<div id=\"ldavis_el217141401831112292561998762791\"></div>\n",
       "<script type=\"text/javascript\">\n",
       "\n",
       "var ldavis_el217141401831112292561998762791_data = {\"mdsDat\": {\"x\": [-0.15834154813544124, -0.19287484235778704, -0.027692626102580317, -0.07193371254879946, 0.009745936049197886, -0.093772594434951, -0.13076437768154633, -0.06206479472910738, 0.05928521450346284, 0.14251496850151876, 0.03442685729281321, 0.11454442583460561, -0.055774680304962077, 0.010575330427950433, -0.030138281453866062, 0.043532344680147154, 0.08814238584997221, 0.1431900847213931, 0.05597860339712968, 0.12142130649084995], \"y\": [-0.07325066777354848, 0.021739337648176635, -0.1770456624496824, -0.11565058781462721, 0.1841855006059618, 0.05353890355657497, 0.11050317430123176, -0.0657142109432415, -0.13272607485209553, -0.10336526885467255, -0.06705455841465012, 0.10357534204346333, -0.008122834342572107, 0.02450384869310753, 0.102385978348137, 0.11883277127964367, -0.036236304444177324, -0.014230791905539228, 0.030049626661248593, 0.0440824786572613], \"topics\": [1, 2, 3, 4, 5, 6, 7, 8, 9, 10, 11, 12, 13, 14, 15, 16, 17, 18, 19, 20], \"cluster\": [1, 1, 1, 1, 1, 1, 1, 1, 1, 1, 1, 1, 1, 1, 1, 1, 1, 1, 1, 1], \"Freq\": [7.680493933987314, 6.969460642730079, 6.6764446186955695, 5.504218280544917, 5.466341738211121, 5.371794067935832, 5.343376885858545, 5.093062181688744, 4.940552108509083, 4.628719616603626, 4.56592571403137, 4.532492994459971, 4.510834035177968, 4.471600545935489, 4.432559003264868, 4.268174175377242, 4.006794027044444, 3.9920603468504616, 3.8270879016421606, 3.718007181451186]}, \"tinfo\": {\"Term\": [\"ambiance\", \"bonne\", \"vie\", \"esprit\", \"missions\", \"bienveillance\", \"signaler\", \"\\u00e9quilibre\", \"autonomie\", \"perso\", \"exp\\u00e9rience\", \"participation\", \"int\\u00e9ressement\", \"pro\", \"super\", \"formations\", \"\\u00e9quipe\", \"vois\", \"int\\u00e9r\\u00eat\", \"cadre\", \"diversit\\u00e9\", \"\\u00e9quipes\", \"agr\\u00e9able\", \"g\\u00e9n\\u00e9ral\", \"salaire\", \"bpifrance\", \"bon\", \"dossiers\", \"formation\", \"m\\u00e9tier\", \"suivi\", \"clair\", \"degr\\u00e9\", \"bel\", \"m\\u00e9tier\", \"forte\", \"travaille\", \"concern\\u00e9e\", \"formations\", \"implication\", \"stagnation\", \"inclusive\", \"stage\", \"pairs\", \"stimulantes\", \"op\\u00e9rationnelles\", \"vue\", \"monde\", \"entrer\", \"choix\", \"exposition\", \"disponibilit\\u00e9\", \"bienveillantes\", \"sp\\u00e9cifiques\", \"mont\\u00e9e\", \"vraiment\", \"am\\u00e9liore\", \"acteur\", \"multitude\", \"r\\u00e9f\\u00e9rence\", \"travailler\", \"rh\", \"confiance\", \"formateur\", \"perspectives\", \"politique\", \"bon\", \"missions\", \"stagiaires\", \"collaborateurs\", \"grand\", \"\\u00e9volution\", \"bienveillance\", \"\\u00e9quipes\", \"ambiance\", \"bonne\", \"salaires\", \"\\u00e9quipe\", \"int\\u00e9r\\u00eat\", \"exp\\u00e9rience\", \"travail\", \"int\\u00e9ressantes\", \"vari\\u00e9t\\u00e9\", \"probl\\u00e9matiques\", \"up\", \"carriere\", \"bons\", \"start\", \"jour\", \"satisfaction\", \"bienveillant\", \"int\\u00e9ressant\", \"humaine\", \"identifi\\u00e9s\", \"r\\u00e8gle\", \"offertes\", \"prend\", \"progressive\", \"ind\\u00e9niables\", \"soin\", \"sert\", \"redondant\", \"op\\u00e9rationnel\", \"solitaire\", \"magnifiques\", \"c\\u0153ur\", \"vari\\u00e9\", \"saliari\\u00e9s\", \"ambiance\", \"responsabilisation\", \"cl\\u00e9\", \"mot\", \"bonne\", \"missions\", \"avantages\", \"travail\", \"responsabilit\\u00e9s\", \"reconnue\", \"\\u00e9quipe\", \"entreprise\", \"v\\u00e9ritable\", \"banque\", \"grande\", \"autonomie\", \"manque\", \"projets\", \"environnement\", \"diversit\\u00e9\", \"esprit\", \"vois\", \"libert\\u00e9\", \"agr\\u00e9able\", \"satisfaisant\", \"journ\\u00e9e\", \"\\u00e9coute\", \"culture\", \"intelligence\", \"d\\u00e9clarer\", \"rush\", \"careersparks\", \"exceptionnelle\", \"d\\u00e9bord\\u00e9e\", \"am\\u00e9nagement\", \"grille\", \"decevante\", \"optimisme\", \"chaleureuse\", \"bienveillante\", \"acteurs\", \"ecoute\", \"termes\", \"entreprenariat\", \"tech\", \"activit\\u00e9s\", \"excellente\", \"in\\u00e9galitaire\", \"transparence\", \"compl\\u00e8te\", \"complexe\", \"organisation\", \"dynamique\", \"quotidien\", \"opportunit\\u00e9\", \"positive\", \"inconv\\u00e9nients\", \"opportunit\\u00e9s\", \"entreprise\", \"\\u00e9quipe\", \"formation\", \"bonne\", \"analyse\", \"travail\", \"management\", \"salaire\", \"int\\u00e9gration\", \"ambiance\", \"bon\", \"avantages\", \"formateur\", \"collaborateurs\", \"environnement\", \"dossiers\", \"rienb\", \"trouv\\u00e9\", \"trait\\u00e9s\", \"consid\\u00e9ration\", \"belle\", \"inutiles\", \"renumeres\", \"astreintes\", \"cadre\", \"ch\\u00e8ques\", \"int\\u00e9rimaire\", \"exploitation\", \"stagiaire\", \"avancement\", \"int\\u00e9ressante\", \"ambience\", \"amiti\\u00e9\", \"resto\", \"sports\", \"d\\u00e9couverte\", \"proposais\", \"extr\\u00eamement\", \"vivante\", \"v\\u00e9ritablement\", \"retours\", \"altruistes\", \"pyramidale\", \"mentalit\\u00e9s\", \"anciennes\", \"lourde\", \"excellent\", \"\\u00e9changes\", \"vacances\", \"gestion\", \"structure\", \"propos\\u00e9s\", \"cours\", \"travail\", \"ambiance\", \"mauvais\", \"bonne\", \"jeune\", \"missions\", \"management\", \"sens\", \"bon\", \"inconv\\u00e9nients\", \"confiance\", \"collaborateurs\", \"perso\", \"pro\", \"equilibre\", \"\\u00e9quilibre\", \"convivialit\\u00e9\", \"vie\", \"noter\", \"rigide\", \"accueillante\", \"favorable\", \"jeune\", \"manag\\u00e9riale\", \"vari\\u00e9e\", \"mise\", \"consid\\u00e9r\\u00e9\", \"coup\", \"reli\\u00e9\", \"rendez\", \"qualifi\\u00e9es\", \"r\\u00e9elle\", \"cours\", \"entreprisele\", \"entrepriseles\", \"stagiairesla\", \"points\", \"embauche\", \"attention\", \"coll\\u00e8gue\", \"prendre\", \"employeur\", \"particuliers\", \"\\u00e9conomie\", \"proximit\\u00e9\", \"projets\", \"cadre\", \"aspect\", \"inconv\\u00e9nients\", \"sujets\", \"emplacement\", \"bonne\", \"salaire\", \"travail\", \"dynamique\", \"rh\", \"politique\", \"top\", \"bienveillance\", \"responsabilit\\u00e9s\", \"formations\", \"vari\\u00e9es\", \"propose\", \"bienveillance\", \"bilan\", \"dispens\\u00e9ecadre\", \"promo\", \"id\\u00e9al\", \"professionnel\", \"cr\\u00e9ation\", \"cultures\", \"contribue\", \"long\", \"logistique\", \"enrichissante\", \"\\u00e9quipem\\u00e9tiers\", \"collaboratifesprit\", \"innovanteesprit\", \"permettant\", \"mesure\", \"complexit\\u00e9\", \"grandit\", \"accessibles\", \"qu\", \"apprendre\", \"formateurs\", \"int\\u00e9r\\u00eats\", \"paradis\", \"pertinent\", \"implaction\", \"suite\", \"\\u00e9quipes\", \"aide\", \"formation\", \"bonne\", \"bpifrance\", \"positif\", \"vie\", \"ambiance\", \"managers\", \"d\\u00e9velopper\", \"travail\", \"int\\u00e9gration\", \"\\u00e9quipe\", \"taille\", \"entreprise\", \"missions\", \"\\u00e9quilibre\", \"interne\", \"responsabilit\\u00e9s\", \"stagiaires\", \"propos\\u00e9es\", \"ouverture\", \"moment\", \"formatrice\", \"responsabilit\\u00e9\", \"exp\\u00e9rience\", \"t\\u00e2ches\", \"autonomie\", \"diversit\\u00e9\", \"pr\\u00e9sente\", \"challenge\", \"positive\", \"enjeux\", \"evolutions\", \"pr\\u00e9sentent\", \"foisonnement\", \"efficaces\", \"lisibles\", \"\\u00e9volutionoffre\", \"formationfeedback\", \"r\\u00e9gulierdiversit\\u00e9\", \"analyser\", \"passion\", \"passionn\\u00e9e\", \"transmet\", \"techniques\", \"60\", \"d\\u00e9penses\", \"collectif\", \"trajets\", \"localisation\", \"riche\", \"restaurant\", \"possibilit\\u00e9\", \"comp\\u00e9tences\", \"sens\", \"rythme\", \"formations\", \"missions\", \"collaborateurs\", \"politiques\", \"ambiance\", \"\\u00e9quipe\", \"travail\", \"int\\u00e9gration\", \"stagiaires\", \"inconv\\u00e9nients\", \"projets\", \"formation\", \"esprit\", \"responsables\", \"prennent\", \"avis\", \"satisfait\", \"donn\\u00e9e\", \"junior\", \"d\\u00e9veloppe\", \"tr\\u00e9s\", \"archivage\", \"d\\u00e9butant\", \"com\", \"covid19\", \"invest\", \"int\\u00e9raction\", \"accomplissement\", \"favorise\", \"strat\\u00e9gique\", \"national\", \"saine\", \"pme\", \"r\\u00e9pondre\", \"th\\u00e8se\", \"\\u00e9tats\", \"diversit\\u00e9s\", \"documents\", \"boites\", \"taf\", \"opportunit\\u00e9\", \"d\\u00e9munies\", \"seules\", \"terrain\", \"process\", \"int\\u00e9gration\", \"investissement\", \"stagiaires\", \"embauche\", \"\\u00e9quipes\", \"donne\", \"bpi\", \"travail\", \"management\", \"responsabilit\\u00e9s\", \"formation\", \"\\u00e9coute\", \"environnement\", \"missions\", \"agr\\u00e9able\", \"ecosystemeteamambiance\", \"sp\\u00e9cial\", \"majeur\", \"pr\\u00e9sent\", \"positif\", \"accessible\", \"ambianceformation\", \"stagiaireambiance\", \"inf\\u00e9rieurs\", \"d\\u00e9placements\", \"haute\", \"caract\\u00e8re\", \"innovation\", \"r\\u00e9seau\", \"path\", \"sens\", \"appartenir\", \"mangement\", \"m\\u00e9diocreenvironnement\", \"instable\", \"m\\u00e9diocreambiance\", \"supers\", \"cool\", \"comparaison\", \"tourn\\u00e9e\", \"cherche\", \"petits\", \"g\\u00e9n\\u00e9ralel\", \"conf\\u00e9rences\", \"fr\\u00e9quente\", \"comp\\u00e9tence\", \"entrepreneuriat\", \"soutien\", \"soci\\u00e9t\\u00e9s\", \"profils\", \"qualit\\u00e9\", \"equipe\", \"travail\", \"investissement\", \"stage\", \"banques\", \"entreprise\", \"diversit\\u00e9\", \"salaire\", \"bureaux\", \"entreprises\", \"bon\", \"dynamique\", \"\\u00e9quipes\", \"participation\", \"int\\u00e9ressement\", \"esprit\", \"rtt\", \"entraide\", \"abondement\", \"travaillait\", \"conges\", \"produits\", \"br\\u00e8ves\", \"deadline\", \"individuellement\", \"frites\", \"majeurs\", \"interessement\", \"vertical\", \"r\\u00e9barbatives\", \"discr\\u00e9tion\", \"jeunisme\", \"laiss\\u00e9e\", \"initiative\", \"grandes\", \"jamais\", \"ressources\", \"constructive\", \"investissent\", \"savoir\", \"directeurs\", \"septembre\", \"juillet\", \"cyclique\", \"calmes\", \"\\u00e9quipe\", \"collaborateur\", \"place\", \"carri\\u00e8re\", \"perspective\", \"inconv\\u00e9nients\", \"responsabilit\\u00e9s\", \"paris\", \"m\\u00e9tier\", \"management\", \"formation\", \"bienveillant\", \"difficile\", \"flexibilit\\u00e9\", \"n\\u00e9gatif\", \"appr\\u00e9ciable\", \"absents\", \"integration\", \"go\\u00fbt\", \"n\\u00e9gatifs\", \"enormement\", \"longue\", \"cdd\", \"changements\", \"interim\", \"dur\\u00e9e\", \"environnent\", \"humainespeu\", \"travailqualit\\u00e9\", \"acqu\\u00e9rir\", \"solides\", \"manageriale\", \"stagne\", \"issue\", \"redondantes\", \"mauvaise\", \"attendues\", \"rigueur\", \"caract\\u00e9ristique\", \"h\\u00e9sitent\", \"vio\", \"am\\u00e9lior\\u00e9e\", \"salariale\", \"pouvant\", \"\\u00e9quit\\u00e9\", \"point\", \"encadrement\", \"forment\", \"manager\", \"\\u00e9quipes\", \"points\", \"salaire\", \"managers\", \"apprentissage\", \"continu\", \"environnement\", \"culture\", \"politique\", \"stage\", \"priv\\u00e9e\", \"ambiance\", \"missions\", \"rh\", \"stagiaires\", \"cadre\", \"comit\\u00e9\", \"cong\\u00e9s\", \"viens\", \"passionnants\", \"perco\", \"strat\\u00e9gie\", \"digitalisation\", \"proc\\u00e9dure\", \"trouver\", \"apparent\", \"consid\\u00e9r\\u00e9e\", \"r\\u00e9mun\\u00e9ration\", \"priv\\u00e9s\", \"utili\\u00e9\", \"sociale\", \"responsabilisant\", \"gap\", \"professionnelqualit\\u00e9\", \"sujet\", \"missionsequilibre\", \"salariales\", \"pay\\u00e9s\", \"pee\", \"jeunes\", \"communication\", \"relationnel\", \"etat\", \"\\u00e9conomique\", \"g\\u00e9n\\u00e9rale\", \"bancaire\", \"package\", \"secteurs\", \"franco\", \"rtt\", \"entreprise\", \"rapide\", \"d\\u00e9veloppement\", \"restaurant\", \"bpi\", \"difficile\", \"esprit\", \"conditions\", \"abondement\", \"travail\", \"formations\", \"ambiance\", \"innovation\", \"impliqu\\u00e9\", \"p\\u00e9dagogique\", \"signaler\", \"accessibilit\\u00e9\", \"friendly\", \"transparent\", \"notifier\", \"rabaissement\", \"spacieux\", \"t\\u00e9l\\u00e9travail\", \"bouge\", \"centre\", \"lointaine\", \"d\\u00e9marche\", \"motivante\", \"r\\u00e9num\\u00e9ration\", \"d\\u00e9livr\\u00e9es\", \"sp\\u00e9cialement\", \"frappes\", \"alternants\", \"pool\", \"stagios\", \"r\\u00e9ellement\", \"sorte\", \"soient\", \"r\\u00e9ussir\", \"gratification\", \"restau\", \"50\", \"innovant\", \"contenu\", \"d\\u00e9velopper\", \"mission\", \"connaissances\", \"valeurs\", \"evolution\", \"missions\", \"tickets\", \"stagiaires\", \"collaborateurs\", \"finance\", \"programme\", \"voit\", \"date\", \"bpifrance\", \"remarque\", \"n\\u00e9gative\", \"d\\u00e9cevant\", \"bureau\", \"mouvements\", \"d\\u00e9parts\", \"entr\\u00e9es\", \"accueille\", \"parfaitement\", \"concurrence\", \"chiffre\", \"g\\u00e9n\\u00e9ration\", \"haussmann\", \"agreable\", \"mani\\u00e8re\", \"int\\u00e9gr\\u00e9s\", \"charges\", \"suivent\", \"marque\", \"possibilit\\u00e9s\", \"servir\", \"incitatives\", \"pens\\u00e9e\", \"mesures\", \"silos\", \"hi\\u00e9rarchis\\u00e9\", \"locaux\", \"reconnue\", \"accompagne\", \"environnement\", \"international\", \"qualit\\u00e9\", \"poste\", \"stagiaires\", \"travail\", \"\\u00e9cosyst\\u00e8me\", \"rh\", \"dynamique\", \"entreprise\", \"mission\", \"perspective\", \"m\\u00e9tiers\", \"flow\", \"deal\", \"encadr\\u00e9\", \"g\\u00e9niale\", \"principal\", \"administration\", \"moyens\", \"35h\", \"fix\\u00e9\", \"sympatique\", \"ind\\u00e9pendance\", \"correctes\", \"riches\", \"ajout\\u00e9\", \"situ\\u00e9\", \"social\", \"exp\\u00e9riment\\u00e9s\", \"form\\u00e9s\", \"cotoyer\", \"950\", \"euros\", \"d\\u00e9bute\", \"cools\", \"focus\", \"d\\u00e9buter\", \"d\\u00e9faillant\", \"d\\u00e9bouchant\", \"veut\", \"confidentielle\", \"hi\\u00e9rarchiques\", \"financi\\u00e8re\", \"analyse\", \"condition\", \"possibilit\\u00e9\", \"id\\u00e9al\", \"\\u00e9tat\", \"progresser\", \"temps\", \"lenteur\", \"management\", \"\\u00e9change\", \"entreprise\", \"horaires\", \"travail\", \"dynamique\", \"esprit\", \"bonne\", \"grande\", \"ambiance\", \"priv\\u00e9\", \"inconvenients\", \"fonctionnement\", \"environement\", \"projet\", \"relever\", \"prot\\u00e9g\\u00e9s\", \"incomp\\u00e9tents\", \"capable\", \"personnellement\", \"mentionner\", \"restauration\", \"correct\", \"r\\u00e9gion\", \"maisons\", \"location\", \"moyenne\", \"bouger\", \"public\", \"g\\u00e9n\\u00e9ralle\", \"croisement\", \"aides\", \"agile\", \"anciens\", \"mode\", \"obsol\\u00e8te\", \"humeur\", \"commence\", \"largement\", \"horaire\", \"d\\u00e9passer\", \"35heures\", \"reconnaissance\", \"mission\", \"dynamisme\", \"managers\", \"int\\u00e9r\\u00eat\", \"accueil\", \"travail\", \"stimulant\", \"top\", \"facile\", \"ambiance\", \"locaux\", \"particuliers\", \"g\\u00e9n\\u00e9ral\", \"salaire\", \"super\", \"actif\", \"diversifi\\u00e9es\", \"investir\", \"difficult\\u00e9\", \"utile\", \"hierarchie\", \"travails\", \"inappropri\\u00e9\", \"13eme\", \"\\u00e9lev\\u00e9\", \"manag\\u00e9riales\", \"strates\", \"discours\", \"priv\\u00e9e\", \"limit\\u00e9e\", \"sympa\", \"int\\u00e9ressants\", \"restreintes\", \"horaires\", \"sentiment\", \"positionnement\", \"bureaucratique\", \"port\\u00e9s\", \"entr\\u00e9e\", \"faible\", \"d\\u00e9but\", \"groupe\", \"voyage\", \"externe\", \"salaire\", \"bon\", \"mauvais\", \"\\u00e9volution\", \"avantages\", \"politique\", \"ambiance\", \"changement\", \"interne\", \"sujets\", \"possibilit\\u00e9\", \"top\", \"vie\", \"professionnel\", \"entreprise\", \"m\\u00e9tiers\", \"qualit\\u00e9\", \"institutionnel\", \"province\", \"inconvenient\", \"prime\", \"mobilit\\u00e9\", \"excellence\", \"simplicit\\u00e9\", \"responsabiliser\", \"comp\\u00e9tents\", \"logement\", \"r\\u00e9activit\\u00e9\", \"fourni\", \"supp\", \"pay\\u00e9es\", \"faibles\", \"cdi\", \"primes\", \"coop\", \"supermarch\\u00e9\", \"commerciaux\", \"imp\\u00e9rative\", \"g\\u00e9ographique\", \"accompagnement\", \"intensit\\u00e9\", \"p\\u00e9riode\", \"varie\", \"responsabilisation\", \"partag\\u00e9\", \"remun\\u00e9ration\", \"agisse\", \"soutenant\", \"salariaux\", \"variable\", \"interne\", \"faible\", \"investissement\", \"heures\", \"partage\", \"qualit\\u00e9\", \"notori\\u00e9t\\u00e9\", \"\\u00e9quipes\", \"diversit\\u00e9\", \"salaires\", \"autonomie\", \"apprentissage\", \"avantages\", \"confiance\", \"redire\", \"ambitions\", \"perdre\", \"enseigne\", \"avantage\", \"cosog\", \"augmentations\", \"int\\u00e9ress\\u00e9es\", \"aime\", \"propos\\u00e9e\", \"p\\u00e9dagogie\", \"innovantes\", \"flexible\", \"adresse\", \"autant\", \"exigeantes\", \"acc\\u00e8s\", \"sociaux\", \"transmettre\", \"excellentes\", \"\\u00e9quipements\", \"logistiques\", \"dirigeants\", \"tailles\", \"types\", \"enti\\u00e8re\", \"mat\\u00e9riel\", \"entreprises\", \"coeur\", \"mutation\", \"accompagner\", \"outils\", \"formation\", \"cantine\", \"conditions\", \"part\", \"bpifrance\", \"entreprise\", \"m\\u00e9tier\", \"\\u00e9quipes\", \"obtenir\", \"bienveillance\", \"avantages\", \"difficiles\", \"travail\", \"rh\", \"mission\", \"grande\", \"atmosph\\u00e8re\", \"g\\u00e9n\\u00e9ral\", \"inconv\\u00e9nient\", \"d\\u00e9tect\\u00e9s\", \"front\", \"int\\u00e9rimaires\", \"int\\u00e9r\\u00eat\", \"millefeuille\", \"encr\\u00e9s\", \"acquisition\", \"op\\u00e9rationnels\", \"parking\", \"m\\u00e9tro\", \"croissance\", \"avenir\", \"inf\\u00e9rieures\", \"r\\u00e9mun\\u00e9rations\", \"\\u00e9tablissements\", \"efficace\", \"incitations\", \"rencontrer\", \"op\\u00e9ration\", \"posture\", \"projection\", \"salarial\", \"secteur\", \"app\\u00e9tence\", \"routini\\u00e8re\", \"casani\\u00e8res\", \"l\\u00e9g\\u00e8re\", \"\\u00e9conomie\", \"directions\", \"solitaires\", \"services\", \"copinage\", \"signaler\", \"banque\", \"gestion\", \"valeurs\", \"administratif\", \"salari\\u00e9s\", \"mission\", \"vois\", \"qualit\\u00e9\", \"interne\", \"travail\", \"m\\u00e9tier\", \"avantages\"], \"Freq\": [17.0, 12.0, 6.0, 4.0, 9.0, 4.0, 3.0, 3.0, 4.0, 2.0, 4.0, 2.0, 2.0, 2.0, 2.0, 5.0, 9.0, 3.0, 3.0, 4.0, 3.0, 7.0, 4.0, 2.0, 5.0, 3.0, 5.0, 2.0, 5.0, 3.0, 1.8712018065697305, 0.6719995376982227, 0.638072645843614, 0.5960149956230694, 1.9946845806283937, 0.8765523785352407, 0.5089427360140322, 0.5018053374915649, 2.8881262908467136, 1.0011137210418033, 0.42451460548495945, 0.41057018746412544, 2.104003735890152, 0.37838387704971466, 0.3497730116783072, 0.33869222814754285, 0.3354013313867002, 0.32967891004256206, 0.324219023434861, 0.32292815248860707, 0.6880551824987503, 0.61192075862766, 0.3109058662784145, 0.3109058662784145, 0.30442975383350196, 0.7646686313113857, 0.30226150475027347, 0.2943679618769635, 0.2943679618769635, 0.2943679618769635, 0.5669502531922909, 1.7243230420909992, 1.0480899864531639, 0.6997582344215102, 0.7047119567820004, 0.9442068032140767, 1.4164638889811976, 2.1504369883664096, 1.5844953546675995, 1.0806373645944778, 0.4975009199201031, 0.861515897224146, 0.9454365903842106, 1.1368459078389517, 1.6637982670715146, 1.3819124003102092, 0.6433607976405873, 0.8767665303359894, 0.6401652970209709, 0.6665658481191817, 0.6768201159808132, 1.7400911461896786, 1.1584562736878208, 0.7445328420495385, 0.6790587426501163, 0.6108569467670931, 0.700659215461571, 0.6588201147138937, 0.5401560682365559, 0.5206748422328823, 0.7739170697372113, 1.2558315087674166, 0.6623107891368918, 0.42384889074005755, 0.4030662425795102, 0.4027158877189436, 0.5885253181451021, 0.3802232695426662, 0.36987460323317334, 0.45106332040623714, 0.3402793147116156, 0.3335564463644184, 0.3335564463644184, 0.3335564463644184, 0.33083705986928363, 0.33083705986928363, 0.32741911809746, 0.3187313949894425, 6.926009535143182, 0.6280761873282777, 0.3063164281395672, 0.3063164281395672, 4.429326543420913, 3.3387624075325975, 1.4861517179643193, 2.795469376115876, 0.8392632205860536, 0.44050488208507876, 1.5465051915398291, 1.512481556114188, 0.5439473465787055, 0.6428966778748748, 0.5585986930230201, 0.6654541011891675, 0.5184682941801945, 0.5526154484779603, 0.5692415331610172, 0.5397497042911551, 0.5564966041004293, 2.1415891222575922, 0.7425673957989233, 2.451384424107022, 0.5631138257431045, 0.5427270789882981, 1.3806276396462207, 1.593386656809025, 0.49645405706272355, 0.47269310754617805, 0.42586059290584416, 0.4057626421803973, 0.39459662836095344, 0.3759608192721106, 0.37539738772070874, 0.3753753419188236, 0.3753753419188236, 0.37007872874726305, 0.57082237745799, 0.35544684343250715, 0.3269348679168665, 0.32038439026304416, 0.31228721426983785, 0.30999566239517246, 0.30999566239517246, 0.45255669910289037, 0.5806984802452654, 0.29469903743710835, 0.29469903743710835, 0.28655603920946177, 0.2807371844737064, 1.0000279626909496, 1.4782518963085867, 0.3994004048582406, 0.4828305781511103, 0.5610509560499747, 1.3595655177008996, 0.5964256155912048, 1.738861730353959, 1.5606879485891922, 0.9971342969107306, 1.5301456033476906, 0.53228118366965, 1.3036410309720978, 0.7526352818860044, 0.7915452688743909, 0.6834515164720814, 1.136012000769163, 0.6875566849274768, 0.654707122946351, 0.5043572330113569, 0.5650616013009484, 0.4884671285916971, 1.6951518577635218, 0.5463421701773381, 0.4586145223194449, 0.5449534145115535, 0.395046909543062, 0.5245238269149474, 0.3586696919977907, 0.3466633994981149, 0.3466633994981149, 1.8011594069070913, 0.5043544614620015, 0.3142986856141573, 0.3142986856141573, 1.290928805153912, 0.2935095277602251, 0.3836787682109208, 0.2788858708017291, 0.2788858708017291, 0.2788858708017291, 0.24666064213040617, 0.2453450219008161, 0.2453450219008161, 0.23839518548933575, 0.237408201105018, 0.2347760967812275, 0.2347760967812275, 0.2347760967812275, 0.22135496550257402, 0.22135496550257402, 0.22135496550257402, 0.22135496550257402, 0.49537876861000535, 0.36900455585349223, 0.47253486701580627, 0.46874339646980623, 0.44131496437637463, 0.3280414250435801, 0.34229625427945415, 1.8021451568512648, 1.6279059429835805, 0.29707991006544704, 1.2400205828430129, 0.3864060815626098, 0.7698160252729352, 0.549398871615049, 0.473540586513765, 0.4671835848569279, 0.41817136549897277, 0.37860480207698227, 0.3773873656085875, 2.150949230492102, 2.0410272799264435, 1.0199392263577425, 2.2285938630814917, 0.8176784587421061, 3.4473203549857687, 0.3835192866818596, 0.36355226650926037, 0.34200559020991456, 0.41075818079581844, 0.7302515258396391, 0.5360820225597832, 0.32339689024002277, 0.31928372831141616, 0.30226788520509745, 0.29593188021252126, 0.2936580383469939, 0.28122401946855463, 0.28063818130103724, 0.7260080485158825, 0.4362540471853222, 0.2555668008055254, 0.2555668008055254, 0.2555668008055254, 0.3433689853441264, 0.4093624284574569, 0.3857601844015461, 0.28574504977923093, 0.2737961984348233, 0.20107940130224963, 0.4369405721801072, 0.3733271943539873, 0.47803493570279937, 0.7052586064788436, 0.8720310765754398, 0.3536261342688142, 0.7967173019512421, 0.46191389763795043, 0.3837574563528789, 1.049653835810397, 0.6140321044281075, 0.9082949258460232, 0.5577006519536186, 0.5392658339290053, 0.4472352983357661, 0.40166891087471973, 0.45605072107032707, 0.4030354077667145, 0.40179350989061274, 0.7231300182585688, 0.49601093596156737, 2.3192368142970543, 0.4272297569166846, 0.4228587530714198, 0.3898663175239605, 0.57719431435013, 0.5784717707795601, 0.31930736852220304, 0.31930736852220304, 0.3772703742223164, 0.47285601145404416, 0.3075449952972936, 0.3741515829923245, 0.2882599360144351, 0.2882599360144351, 0.2882599360144351, 0.28353599086159736, 0.28319892830225757, 0.28319892830225757, 0.28319892830225757, 0.2794477280421138, 0.7526228113497379, 0.4834984834302222, 0.2686278063314424, 0.2686278063314424, 0.26263855156129917, 0.25535076545542884, 0.2516977201850391, 0.3017820648525447, 1.8373745857980197, 0.31423839034306816, 1.0203640869226356, 1.3574826330026046, 0.6063372903370494, 0.44354725435651, 0.7393684840035997, 0.9343519996223402, 0.4122222363557238, 0.34463514234271997, 0.8195274498922707, 0.51915402297174, 0.6737157266043069, 0.35608071719923534, 0.557412933017098, 0.511062278870166, 0.3925752529318571, 0.38145118062218003, 0.37567720188635484, 0.3979357281759565, 1.3300081130117811, 0.9155179455405891, 0.7497685427986968, 0.9998964724972473, 0.8333400746123039, 2.2751767413050974, 1.3089938768440241, 2.124036764390141, 1.6732676972806568, 0.4471611084892183, 0.33868689020492443, 0.6446299871343961, 0.39464781306456065, 0.2948158504150485, 0.2948158504150485, 0.2937206690227906, 0.2937206690227906, 0.2937206690227906, 0.2724413550378202, 0.2724413550378202, 0.2724413550378202, 0.2686933022464613, 0.2659087569205195, 0.2659087569205195, 0.2659087569205195, 0.41072322106702713, 0.25907612844247263, 0.25907612844247263, 0.25907612844247263, 0.25907612844247263, 0.5272402944844926, 0.42413170607275946, 0.4992281678561281, 0.5493285372696799, 0.5030160081687072, 0.5908987615649263, 0.3096214306688514, 0.8014990406708475, 1.021025632787646, 0.6478981544825606, 0.3650736133872219, 1.1347981082942136, 0.7765739882905737, 0.8344065807171653, 0.5192553226593132, 0.5791381108538197, 0.48475338999098727, 0.4117057792014357, 0.4222595952651058, 0.4187970160626566, 0.6129505815130063, 0.4116033588580864, 0.39056054035425114, 0.39056054035425114, 0.4876530946467354, 0.36483096131469733, 0.3352986248998109, 0.33265312743227743, 0.33265312743227743, 0.32750543188057096, 0.3238360638669554, 0.323119883436025, 0.323119883436025, 0.28724131668559055, 0.28724131668559055, 0.2631764849843267, 0.25697890668709905, 0.25697890668709905, 0.2511687301187606, 0.3193529576673583, 0.2376875904537097, 0.23422240096243868, 0.23422240096243868, 0.23422240096243868, 0.2270942164203784, 0.2270942164203784, 0.2270942164203784, 0.4414976477274984, 0.22421656692878053, 0.22421656692878053, 0.22421656692878053, 0.3796982493249483, 0.8594716245314188, 0.5807007266179741, 1.0512811646011824, 0.33021276061676796, 0.7631844231591673, 0.2935220787984487, 0.35094099897330283, 0.6784194217867209, 0.4374123274933956, 0.3652933297785011, 0.41550469466427525, 0.35081900082035955, 0.36904045795677576, 0.39878035327329125, 0.32623137847252537, 0.9409756835703371, 0.5222860265425512, 0.5160483558594913, 0.4987439051858591, 0.9670337224906631, 0.38463317082448845, 0.37659646896602417, 0.37659646896602417, 0.35068432628242585, 0.3360913759754374, 0.3150782195405196, 0.308861557157659, 0.8909327308068353, 0.5222860275967459, 0.280022207461401, 1.0671594454734803, 0.3897467186161049, 0.2687931915714287, 0.2687931915714287, 0.2687931915714287, 0.2687931915714287, 0.26848509190301745, 0.2653864759256516, 0.31491947163076883, 0.25941233141991105, 0.24663245562678962, 0.33293156227209497, 0.23278155353008903, 0.23278155353008903, 0.23278155353008903, 0.4792337182020574, 0.33659567306770444, 0.3225461428369346, 0.31491947121551683, 0.4171236741176086, 0.615701890211617, 0.4956217238546338, 0.9306094711368702, 0.43537081927646315, 0.5213905929315679, 0.3174164348426643, 0.6011263424753569, 0.44516829179602374, 0.44463078810461, 0.34689044174791284, 0.35030452111472, 0.37910795745094883, 0.3490967110892941, 0.3348022676203539, 1.8319486989486848, 1.840093506181021, 2.610958894741519, 0.7430397260214222, 0.39868833524431924, 0.6376759916305976, 0.36908367478958093, 0.3488403609165224, 0.40947269733668573, 0.3321367986582574, 0.3321367986582574, 0.3312606607594643, 0.3307325880632815, 0.31607632017135895, 0.29743224586958567, 0.26861601779554, 0.26861601779554, 0.26642745560058867, 0.26642745560058867, 0.26457347276370863, 0.26457347276370863, 0.2515310399245267, 0.3124302597657759, 0.2811189090044291, 0.23114378920074213, 0.23114378920074213, 0.23114378920074213, 0.23114378920074213, 0.22634357334279498, 0.22634357334279498, 0.22634357334279498, 0.22634357334279498, 1.8873846150716544, 0.29991870412209354, 0.3923259652714452, 0.4097122434417755, 0.3013995640765824, 0.44975038010953206, 0.35525387947372206, 0.30175830281688315, 0.320990330987332, 0.32163261796944975, 0.32805186717083074, 0.2815848335210441, 0.28541540833043616, 0.6835094866214283, 0.465313285181322, 0.47241968805189755, 0.3426529895183781, 0.31626207049054184, 0.3154770684209244, 0.3154770684209244, 0.3098052231764979, 0.3098052231764979, 0.3098052231764979, 0.3098052231764979, 0.3098052231764979, 0.3098052231764979, 0.2913315053072088, 0.28440902894654424, 0.28440902894654424, 0.2734248070159558, 0.2734248070159558, 0.2714492960720367, 0.2714492960720367, 0.2633554307688182, 0.2633554307688182, 0.2607747738853334, 0.2566947752214464, 0.2566947752214464, 0.25356627759302314, 0.25356627759302314, 0.25081278760560205, 0.24787411842275017, 0.24787411842275017, 0.24787411842275017, 0.24787411842275017, 0.4174647218408628, 0.37934539807534584, 0.3101868579003038, 0.3683339010062532, 0.6335089463992577, 0.29810878506763683, 0.5180415703582325, 0.372454584200869, 0.38570824467139175, 0.28930215956434124, 0.4160485953216513, 0.3671689352739778, 0.35930171613212836, 0.3918729933896432, 0.31750638576454243, 0.40753641536104457, 0.37964669629759773, 0.3218738642065096, 0.3246492611706591, 0.31343306000283006, 0.694220556672874, 0.45241086142539866, 0.4336427813553632, 0.38818748095436917, 0.34693792388616734, 0.34359204421594186, 0.3162666324706454, 0.3162666324706454, 0.31397267449203303, 0.30662828375475526, 0.3055944826977266, 1.046252330795793, 0.29468329183643066, 0.28855854060836017, 0.28855854060836017, 0.27140193614547975, 0.26808060280399715, 0.26739876931359113, 0.26739876931359113, 0.26739876931359113, 0.26494126858399175, 0.2584960791152716, 0.3324029760791087, 0.343496989100132, 0.3277071304163218, 0.23677914749192006, 0.23677914749192006, 0.23677914749192006, 0.23400303524820512, 0.3786486896200991, 0.32204096450413094, 0.35104655157761, 0.28880161639086477, 0.4059363995763356, 0.8431044296372892, 0.4140929920346313, 0.35086464877607043, 0.38417404101927044, 0.3981782863619973, 0.3852584851510355, 0.4282776837614193, 0.34974090144163567, 0.3119171153981329, 0.3996775822281731, 0.3527618455613987, 0.326460074343669, 0.30803026587235777, 0.5477298692891575, 0.47941986226590266, 1.7785099170070675, 0.39174124560074663, 0.38413415289597785, 0.37386634720914425, 0.37386634720914425, 0.36014460116904934, 0.3156546534834979, 0.31546297047702554, 0.31546297047702554, 0.29716178764057166, 0.29716178764057166, 0.33930111370354216, 0.2920180178119969, 0.2920180178119969, 0.2634791594803974, 0.2634791594803974, 0.2610835680047026, 0.34010831178373124, 0.23438134755626358, 0.23438134755626358, 0.3505635806105625, 0.2250963808697629, 0.2250963808697629, 0.2250963808697629, 0.22456979547383343, 0.22456979547383343, 0.22456979547383343, 0.32773205267668704, 0.44968621915685886, 0.3347866100129009, 0.5562283119160171, 0.32515856722332526, 0.3666775185365235, 0.3487896621586373, 0.6348811648372639, 0.30920217597669813, 0.5218068816305493, 0.36720872654080366, 0.277141281001914, 0.9297908503404133, 0.3742805329701307, 0.3742805329701307, 1.2946939879993224, 0.32058972832915295, 0.32058972832915295, 0.3103598538454713, 0.29865505510949886, 0.28739922156086384, 0.28739922156086384, 0.28739922156086384, 0.26606216432522994, 0.26606216432522994, 0.25883685154050085, 0.2584319387212523, 0.2584319387212523, 0.24212536778746685, 0.3640558759410451, 0.23824206456205335, 0.23824206456205335, 0.23824206456205335, 0.23665941574785118, 0.34915406175152547, 0.26127775220282046, 0.36307438319821006, 0.20149825397199053, 0.20149825397199053, 0.20149825397199053, 0.20149825397199053, 0.20149825397199053, 0.6386024989490539, 0.34716372794277917, 0.25164694463141407, 0.8123958978667453, 0.32826774188340524, 0.5057440815249672, 0.42161451025085794, 0.727016996671761, 0.7511974183272598, 0.2814574814631675, 0.41991002035993785, 0.363397490523142, 0.40638542846055936, 0.32776887592667314, 0.27180437746653924, 0.267770113843026, 0.7524746071648584, 0.7131375985944637, 0.44233265096895463, 0.40258246082600374, 0.3922601901378469, 0.3556814063426828, 0.31489089170001633, 0.3140141540071491, 0.3140141540071491, 0.304587899762993, 0.29742109855817317, 0.29665820139495874, 0.2950483688131703, 0.27093285164866654, 0.2621817321327593, 0.3743385191847658, 0.25184402346348733, 0.25184402346348733, 0.25184402346348733, 0.24739901069800532, 0.24739901069800532, 0.24446682762425279, 0.2420647732804953, 0.2420647732804953, 0.2318014465281752, 0.22398840087845645, 0.22263694727531172, 0.22263694727531172, 0.22263694727531172, 0.2869793398594035, 0.5376682165355761, 0.5264792809912258, 0.28785774183348006, 0.5598346793923509, 0.38263029122652414, 0.3493838183330931, 0.38967693856533936, 0.395766461425667, 0.3218640004259138, 0.5953946187014881, 0.2869793397333288, 0.7014204000185356, 0.3934876993711814, 0.7412674420485105, 0.4249004628092752, 0.3780495289644297, 0.42967949147381646, 0.332667562477276, 0.32388825892367534, 0.9312770267525073, 0.5006895337308844, 0.5237851322458706, 0.3728158075406326, 0.3576808536555389, 0.34153430906489607, 0.31923198088951577, 0.31923198088951577, 0.29915020358711664, 0.29915020358711664, 0.29915020358711664, 0.28864580911426085, 0.28864580911426085, 0.28540461734433603, 0.2828970594571513, 0.2828970594571513, 0.41907754907026823, 0.3331518428425299, 0.8051657676157921, 0.2558102989057812, 0.2558102989057812, 0.2551424254977121, 0.25492255855302887, 0.2508565220783992, 0.2508565220783992, 0.2508565220783992, 0.24880003883547697, 0.24880003883547697, 0.23961009393788027, 0.23961009393788027, 0.23961009393788027, 0.23961009393788027, 0.45235261798471643, 0.7044185879818088, 0.4545972946946482, 0.4304998348046007, 0.4692508276325994, 0.3485776859399388, 0.7022064467005933, 0.3163393448521501, 0.35140721446902357, 0.30839795274400894, 0.5908514818602397, 0.34031080653203544, 0.30909569198875053, 0.3193303200020119, 0.29062386532912293, 1.5549880844937287, 0.5322090485401773, 0.4546118765264121, 0.30492383554519464, 0.2849593246115659, 0.2725048972830855, 0.2718126504068793, 0.26831922268457836, 0.26831922268457836, 0.25631790765078405, 0.25631790765078405, 0.24564643701682584, 0.24564643701682584, 0.23768556213185563, 0.6586736975478135, 0.23045939158119153, 0.24544741045164603, 0.4589480963456647, 0.28704969292731974, 0.654743317843724, 0.25762022498642834, 0.2761681161597171, 0.2569693250685088, 0.22488060856493994, 0.2424000654823154, 0.5333711772271843, 0.28159680207283044, 0.28711306665799136, 0.2470212267143747, 0.22488060860736483, 1.2696973778674208, 1.157467538601297, 0.25696932508200165, 0.5713560253785974, 0.7111101131095943, 0.44680948900587464, 0.6967704657403079, 0.27565137898049824, 0.34927047934345384, 0.31524614631824965, 0.30895271409972735, 0.3009966145134661, 0.3560771476885225, 0.2789220712864854, 0.3272352137712591, 0.2756513789570836, 0.2777866858486558, 0.3545907787020375, 0.34014975452138274, 0.337521047475552, 0.5395676552604337, 0.7826247103031871, 0.3231215087368488, 0.3231215087368488, 0.32174959216834764, 0.3140273473301105, 0.31010641140900724, 0.30896750073514506, 0.3728936068736248, 0.29736343023981265, 0.29736343023981265, 0.29111008612571215, 0.29111008612571215, 0.62627373268684, 0.2627904217856061, 0.2627904217856061, 0.2270392271190213, 0.2270392271190213, 0.2270392271190213, 0.5359286244113732, 0.22628959836993492, 0.22628959836993492, 0.22628959836993492, 0.4887510542643371, 0.2891223462877335, 0.21319515868459543, 0.20786418881051097, 0.20786418881051097, 0.20786418881051097, 0.2645992064010278, 0.649355177589878, 0.42657582917044456, 0.4985082472949021, 0.28099237564849827, 0.2604711419950264, 0.37025335699575673, 0.2704050601470096, 0.47714191945186574, 0.37967292247545403, 0.35803800507105016, 0.3753052064505386, 0.33042170381000485, 0.31929738053491846, 0.2925766368584643, 0.448295873260895, 0.3320854519672136, 0.32013889792453215, 0.32013889792453215, 0.30528058418497156, 0.30528058418497156, 0.270407397486933, 0.26824293003125216, 0.26824293003125216, 0.26664499666277286, 0.26664499666277286, 0.2299526101647301, 0.21692589228544798, 0.21692589228544798, 0.2079800957893837, 0.2079800957893837, 0.4043024125816781, 0.4049058177634695, 0.25362838407032084, 0.17983511848679712, 0.17983511848679712, 0.17983511848679712, 0.17263386067085415, 0.17263386067085415, 0.17263386067085415, 0.17255253117134564, 0.17255253117134564, 0.4833075057279392, 0.19696497955113235, 0.15380063107632153, 0.2176251008841273, 0.290441400994201, 0.8291037263460563, 0.3721098971903865, 0.41036056802571863, 0.239917685238023, 0.3837514942935776, 0.5886313044482441, 0.3769181747669574, 0.4736036768418171, 0.23708854501672136, 0.3029855167260831, 0.3003868064739214, 0.23708854490338865, 0.3042603466942982, 0.26531435083491156, 0.25724678493022274, 0.23836234595538786, 0.957942792651393, 1.2699253571768307, 1.0234567862173223, 0.3579688581748614, 0.3290051286615584, 0.40025953604495035, 1.1995585355398104, 0.30934295275272733, 0.28618641497880637, 0.2841516570647734, 0.27734763390663447, 0.27476235284718153, 0.27476235284718153, 0.3488974958413461, 0.24570585113868929, 0.23364385006745544, 0.23364385006745544, 0.23364385006745544, 0.31955397746511904, 0.22789134698932234, 0.22789134698932234, 0.18779357780284978, 0.18033600793029753, 0.18033600793029753, 0.19640400211752712, 0.2210444526132699, 0.14921395816915, 0.14921395816915, 0.14921395816915, 0.14921395816915, 0.2985555021543602, 0.28007472205398204, 0.14921395816915, 0.3310787796696566, 0.14921395816915, 0.6339190899006296, 0.40519268831588395, 0.2794340321454699, 0.3006780835557877, 0.26295390460553447, 0.2970654939784821, 0.35643876344636993, 0.33530406440163746, 0.3213946438706905, 0.299958118942245, 0.38387824995054537, 0.28703015334981946, 0.2773727954147846], \"Total\": [17.0, 12.0, 6.0, 4.0, 9.0, 4.0, 3.0, 3.0, 4.0, 2.0, 4.0, 2.0, 2.0, 2.0, 2.0, 5.0, 9.0, 3.0, 3.0, 4.0, 3.0, 7.0, 4.0, 2.0, 5.0, 3.0, 5.0, 2.0, 5.0, 3.0, 2.854829669946432, 1.1433692292535196, 1.1094423374218916, 1.0673846875829178, 3.651184540320739, 1.6876893600392575, 0.9803124275693293, 0.973175029046862, 5.846942897922356, 2.109510924995165, 0.8958842970402566, 0.8819398790194225, 4.681002225138775, 0.8497535686050118, 0.8211427032336044, 0.8100619197028399, 0.8067710231341082, 0.8010486015978592, 0.795588714990158, 0.7942978440439042, 1.6935709250059776, 1.5259958045030169, 0.7822755578337116, 0.7822755578337116, 0.7757994460195452, 1.9546804665202082, 0.7736311963055705, 0.7657376534322606, 0.7657376534322606, 0.7657376534322606, 1.4913460308103006, 4.7045331126012835, 2.947642172751474, 1.9376041021602166, 2.016708477102046, 2.8536101164832313, 5.438717317532784, 9.652468333601279, 7.159555361382511, 4.317572531263793, 1.435982645288654, 3.3044730805840388, 4.888990316891891, 7.052288543787465, 17.19396880846145, 12.415532314891616, 3.0010676764986783, 9.424840081751444, 3.035562255652294, 4.316930854501442, 14.948765905048994, 2.5295339440697457, 1.8679363309817925, 1.2169345092712454, 1.1514604110826538, 1.0832586138610283, 1.271245354697606, 1.2337511038961002, 1.01255773660502, 0.9930765093268178, 1.5035945815767697, 2.4751664338027672, 1.3652859608597612, 0.896250557833993, 0.8754679096734456, 0.875117554812879, 1.283630460071688, 0.8526249366366017, 0.8422762703271088, 1.0491974799068282, 0.8126809836419242, 0.8059581134583539, 0.8059581134583539, 0.8059581134583539, 0.8032387269632191, 0.8032387269632191, 0.7998207851913954, 0.791133062083378, 17.19396880846145, 1.5659550497502706, 0.7787180952335027, 0.7787180952335027, 12.415532314891616, 9.652468333601279, 4.9494600885198485, 14.948765905048994, 3.03390704597864, 1.2353524604674002, 9.424840081751444, 9.213316358055627, 1.771523977724766, 2.477392656794552, 2.373882797852595, 4.231252440248638, 2.301170101338309, 2.963440368926621, 4.187382293373056, 3.6131493908246073, 4.903845728104876, 3.1770738630874553, 1.2153752532686635, 4.3095222620121785, 1.035921682936083, 1.0155782128864221, 2.6630068646537146, 3.0952821735123335, 0.9692619142557022, 0.9455009647391567, 0.8986684500988228, 0.8785704993733758, 0.867404485553932, 0.8487686764650892, 0.8482052449136873, 0.8481831991118022, 0.8481831991118022, 0.8428865859402417, 1.3125000538237406, 0.8282547036081312, 0.7997427251098451, 0.7931922474560228, 0.7850950714628164, 0.782803519588151, 0.782803519588151, 1.1652350350340788, 1.5027173529731, 0.7675068946300869, 0.7675068946300869, 0.7593638964024404, 0.753545041666685, 2.7835260065622602, 4.220347843056832, 1.0884227271220321, 1.3713431203046818, 1.6533821236821638, 4.956232400359456, 1.9637937909488226, 9.213316358055627, 9.424840081751444, 5.211339968894936, 12.415532314891616, 1.8167481641877035, 14.948765905048994, 4.257320458865729, 5.071636396186514, 4.160640532254899, 17.19396880846145, 5.438717317532784, 4.9494600885198485, 1.9376041021602166, 4.317572531263793, 4.187382293373056, 2.9847143063225894, 1.019948677635354, 0.9322210297774608, 1.1523379921037844, 0.8686534170010778, 1.1801960711678812, 0.8322761994558066, 0.8202699069561308, 0.8202699069561308, 4.376487027516302, 1.225842847933495, 0.7879051930721731, 0.7879051930721731, 3.2621549804242345, 0.7671160352182409, 1.0222485655769467, 0.752492378259745, 0.752492378259745, 0.752492378259745, 0.720267149588422, 0.718951529358832, 0.718951529358832, 0.7120016929473516, 0.7110147348188429, 0.7083826042392434, 0.7083826042392434, 0.7083826042392434, 0.6949614729605899, 0.6949614729605899, 0.6949614729605899, 0.6949614729605899, 1.5859591239879118, 1.172246573947787, 1.524602869669274, 1.5323756564990254, 1.4554999980963184, 1.1240929209119435, 1.226519661770651, 14.948765905048994, 17.19396880846145, 1.0043549186680951, 12.415532314891616, 1.7480700915061544, 9.652468333601279, 4.257320458865729, 2.916462219297294, 5.438717317532784, 4.956232400359456, 2.947642172751474, 4.317572531263793, 2.6249348853971655, 2.515012934855747, 1.493924880948329, 3.469019755381409, 1.2916641160936668, 6.039064192756117, 0.8575049408057068, 0.8375379206331076, 0.8159912443337618, 0.9807060718172768, 1.7480700915061544, 1.2860117824541608, 0.79738254436387, 0.7932693824352635, 0.7762535393289447, 0.7699175343363686, 0.7676436924708412, 0.7552096735924019, 0.7546238354248845, 1.9873852849957592, 1.226519661770651, 0.7295524549293727, 0.7295524549293727, 0.7295524549293727, 1.0907718576078753, 1.3007169346403034, 1.2322058213909177, 0.9404569320929276, 0.903014015308732, 0.675065055426097, 1.4876896197807885, 1.2778847221116576, 1.7877447073727661, 2.963440368926621, 4.376487027516302, 1.2320920643665183, 4.956232400359456, 1.9958563824502027, 1.4434876080842929, 12.415532314891616, 5.071636396186514, 14.948765905048994, 4.220347843056832, 4.7045331126012835, 2.8536101164832313, 2.0373514525950647, 4.888990316891891, 3.03390704597864, 5.846942897922356, 1.310811833770568, 0.9697407593452305, 4.888990316891891, 0.9009595799287957, 0.8965885760835309, 0.8635961427857104, 1.4090683298472604, 1.4316979073441356, 0.7930371915343141, 0.7930371915343141, 0.9518390060595078, 1.1993223202943954, 0.7812748183094047, 0.9817325027331328, 0.7619897590265462, 0.7619897590265462, 0.7619897590265462, 0.7572658138737085, 0.7569287513143687, 0.7569287513143687, 0.7569287513143687, 0.7531775510542249, 2.0403961426092834, 1.3280480103502204, 0.7423576293435535, 0.7423576293435535, 0.7363683745734102, 0.7290805895592284, 0.7254275431971502, 0.8979720774516486, 7.052288543787465, 0.9637167524635735, 5.211339968894936, 12.415532314891616, 3.132538977156261, 2.030522846134892, 6.039064192756117, 17.19396880846145, 2.037438480595081, 1.283177964235781, 14.948765905048994, 4.160640532254899, 9.424840081751444, 1.434904084371051, 9.213316358055627, 9.652468333601279, 3.469019755381409, 2.8902492919097753, 3.03390704597864, 7.159555361382511, 1.8045242347164592, 1.3900340664520179, 1.2242846659620075, 1.7432824136895593, 1.5227195560040059, 4.316930854501442, 2.5142697380724175, 4.231252440248638, 3.6131493908246073, 1.060643052420852, 0.8132030109298404, 1.6533821236821638, 1.018205455591922, 0.7693319711399643, 0.7693319711399643, 0.7682367897477065, 0.7682367897477065, 0.7682367897477065, 0.7469574757627361, 0.7469574757627361, 0.7469574757627361, 0.7432094229713773, 0.7404248776454354, 0.7404248776454354, 0.7404248776454354, 1.1628827309320378, 0.7335922491673885, 0.7335922491673885, 0.7335922491673885, 0.7335922491673885, 1.6422270456121708, 1.354011604102301, 1.9685556328559717, 2.3064752532649484, 2.1442851945002097, 2.916462219297294, 0.9639124145778258, 5.846942897922356, 9.652468333601279, 4.317572531263793, 1.3900424216144063, 17.19396880846145, 9.424840081751444, 14.948765905048994, 4.160640532254899, 7.159555361382511, 4.956232400359456, 2.963440368926621, 5.211339968894936, 4.903845728104876, 1.086780420022089, 0.8854331973671693, 0.864390378863334, 0.864390378863334, 1.0838740563074676, 0.8386607998237802, 0.8091284634088938, 0.8064829659413603, 0.8064829659413603, 0.8013352703896538, 0.7976659023760383, 0.7969497219451078, 0.7969497219451078, 0.7610711551946734, 0.7610711551946734, 0.7370063234934096, 0.7308087458083338, 0.7308087458083338, 0.7249985686278435, 0.9488324310352477, 0.7115174289627926, 0.7080522394715215, 0.7080522394715215, 0.7080522394715215, 0.7009240549294612, 0.7009240549294612, 0.7009240549294612, 1.3713431203046818, 0.6980464054378633, 0.6980464054378633, 0.6980464054378633, 1.3866749682939685, 4.160640532254899, 2.71246028632407, 7.159555361382511, 1.3007169346403034, 7.052288543787465, 1.1485870323917335, 2.1988140677902748, 14.948765905048994, 4.257320458865729, 3.03390704597864, 5.211339968894936, 2.6630068646537146, 4.187382293373056, 9.652468333601279, 4.3095222620121785, 1.4157277216776285, 0.997038064649843, 0.9908003939667831, 0.973495944031568, 2.030522846134892, 0.8593852089317803, 0.851348507073316, 0.851348507073316, 0.8254363643897177, 0.8108434140827292, 0.7898302576478115, 0.7836135952649508, 2.3212043318469093, 1.3724192408451987, 0.7547742455686928, 2.916462219297294, 1.0656244452651982, 0.7435452296787205, 0.7435452296787205, 0.7435452296787205, 0.7435452296787205, 0.7432371300103092, 0.7401385155527703, 0.8905103156622137, 0.7341643722049517, 0.7213844937340814, 0.9952698604025677, 0.7075335916373808, 0.7075335916373808, 0.7075335916373808, 1.4613251581499993, 1.033952743709384, 0.9905689162933715, 0.9786882027236684, 1.449309139969985, 2.8025173781020376, 2.6917113355880566, 14.948765905048994, 2.71246028632407, 4.681002225138775, 1.2200625903762252, 9.213316358055627, 3.6131493908246073, 5.071636396186514, 1.637809716424683, 1.9224673348140768, 5.438717317532784, 4.220347843056832, 7.052288543787465, 2.3072625074176987, 2.603420710040939, 4.903845728104876, 1.5998471316691791, 0.8740021415906218, 1.4004641143190175, 0.8443974811358835, 0.824154167262825, 0.9876050367582708, 0.80745060500456, 0.80745060500456, 0.8065744671057669, 0.806046394409584, 0.7913901265176615, 0.7727460522158882, 0.7439298241418426, 0.7439298241418426, 0.7417412619468913, 0.7417412619468913, 0.7398872791100112, 0.7398872791100112, 0.7268448466177676, 0.9338179507390508, 0.8572715213897064, 0.7064575955470447, 0.7064575955470447, 0.7064575955470447, 0.7064575955470447, 0.7016573796890976, 0.7016573796890976, 0.7016573796890976, 0.7016573796890976, 9.424840081751444, 1.0791919324637715, 1.840069425441356, 2.2117529192964285, 1.442096640607022, 4.956232400359456, 3.03390704597864, 1.999564597945743, 3.651184540320739, 4.257320458865729, 5.211339968894936, 1.5035945815767697, 2.137564771643786, 1.3249721004597066, 0.9402445195295751, 1.0771436391710976, 0.8175842238666312, 0.7911933048638761, 0.7904083027691775, 0.7904083027691775, 0.784736457524751, 0.784736457524751, 0.784736457524751, 0.784736457524751, 0.784736457524751, 0.784736457524751, 0.7662627396554619, 0.7593402632947973, 0.7593402632947973, 0.7483560413642089, 0.7483560413642089, 0.7463805304202898, 0.7463805304202898, 0.7382866651170713, 0.7382866651170713, 0.7357060082335866, 0.7316260095696995, 0.7316260095696995, 0.7284975119412763, 0.7284975119412763, 0.7257440238880459, 0.7228053527710033, 0.7228053527710033, 0.7228053527710033, 0.7228053527710033, 1.3874005823593514, 1.2693083893180552, 1.071552340514389, 1.6029486747003607, 7.052288543787465, 1.0907718576078753, 5.071636396186514, 2.037438480595081, 2.6092145809805896, 1.0296308740657016, 4.187382293373056, 3.0952821735123335, 2.8536101164832313, 4.681002225138775, 1.9991029417137662, 17.19396880846145, 9.652468333601279, 4.7045331126012835, 7.159555361382511, 4.376487027516302, 1.3721490218243466, 0.9275908620081171, 0.9088227819380816, 0.8633674815370876, 0.8221179252826172, 0.8187720447986603, 0.7914466330533638, 0.7914466330533638, 0.7891526750747514, 0.7818082843374737, 0.780774483280445, 2.6977757217557072, 0.7698632924191491, 0.7637385411910785, 0.7637385411910785, 0.7465819400299781, 0.7432606033867156, 0.7425787698963096, 0.7425787698963096, 0.7425787698963096, 0.7401212691667102, 0.7336760796979901, 0.94633876181417, 0.9823821550179933, 0.9418529543820532, 0.7119591480746384, 0.7119591480746384, 0.7119591480746384, 0.7091830358309236, 1.148958936271995, 0.9815265950748376, 1.2317692354504384, 0.9425591352355869, 1.5998471316691791, 9.213316358055627, 2.1688497651513434, 1.5028449483859718, 1.9685556328559717, 2.1988140677902748, 2.137564771643786, 4.903845728104876, 2.4678114524933465, 1.4004641143190175, 14.948765905048994, 5.846942897922356, 17.19396880846145, 2.3212043318469093, 1.022662207046692, 0.9543522000234371, 3.5417329078614204, 0.8666735835125273, 0.8590664906535124, 0.8487986849666788, 0.8487986849666788, 0.8350769389265839, 0.7905869917062726, 0.7903953082345601, 0.7903953082345601, 0.7720941253981062, 0.7720941253981062, 0.8849593301825588, 0.7669503555695314, 0.7669503555695314, 0.738411497237932, 0.738411497237932, 0.7360159057622372, 1.0176396896646691, 0.7093136853137981, 0.7093136853137981, 1.085603820614598, 0.7000287186272974, 0.7000287186272974, 0.7000287186272974, 0.6995021332313679, 0.6995021332313679, 0.6995021332313679, 1.0696927455343552, 1.4739616757806557, 1.283177964235781, 3.5114740126712936, 1.468373352426846, 1.9396243873529384, 1.88050119317706, 9.652468333601279, 1.4887922651636745, 7.159555361382511, 4.317572531263793, 1.6023391146091166, 1.7418524022027015, 0.8491855175344778, 0.8491855175344778, 3.132538977156261, 0.7954947128934999, 0.7954947128934999, 0.7852648384098184, 0.7735600396738459, 0.7623042061252109, 0.7623042061252109, 0.7623042061252109, 0.740967148889577, 0.740967148889577, 0.7337418361048479, 0.7333369232855993, 0.7333369232855993, 0.7170303523518139, 1.0896747020631978, 0.7131470491264004, 0.7131470491264004, 0.7131470491264004, 0.7115644003121983, 1.1023829528324747, 0.858642926348853, 1.194576032943907, 0.6764032385363375, 0.6764032385363375, 0.6764032385363375, 0.6764032385363375, 0.6764032385363375, 2.3325865705294717, 1.2353524604674002, 0.8979537985618324, 4.187382293373056, 1.2873781183729813, 2.8025173781020376, 2.259134974978786, 7.159555361382511, 14.948765905048994, 1.2061351831803961, 4.7045331126012835, 4.220347843056832, 9.213316358055627, 3.5114740126712936, 1.442096640607022, 1.3308891859126306, 1.2276113100528812, 1.351104764718426, 0.9174693535034381, 0.8777191633604872, 0.8673968926723303, 0.8308181088771662, 0.7900275942344998, 0.7891508565416325, 0.7891508565416325, 0.7797246022974764, 0.7725578010926566, 0.7717949039294422, 0.7701850716700716, 0.7460695541831499, 0.7373184346672428, 1.0790315413852947, 0.7269807259979708, 0.7269807259979708, 0.7269807259979708, 0.7225357132324888, 0.7225357132324888, 0.7196035301587362, 0.7172014758149787, 0.7172014758149787, 0.7069381490626586, 0.6991251034129399, 0.6977736498097952, 0.6977736498097952, 0.6977736498097952, 0.9330799616260066, 1.7632460181038285, 1.8167481641877035, 0.9373856875182291, 2.3064752532649484, 1.4090683298472604, 1.314756327514945, 1.5797667933690818, 1.6249773782020536, 1.1773901985319495, 4.257320458865729, 0.9941352161956623, 9.213316358055627, 2.3212090285317872, 14.948765905048994, 4.220347843056832, 4.903845728104876, 12.415532314891616, 2.373882797852595, 17.19396880846145, 1.5123923163829316, 0.9764699762577798, 1.1379677350697417, 0.8485962500675279, 0.8334612963977941, 0.8173147515917913, 0.7950124234164111, 0.7950124234164111, 0.774930646114012, 0.774930646114012, 0.774930646114012, 0.7644262516411562, 0.7644262516411562, 0.7611850598712313, 0.7586775019840466, 0.7586775019840466, 1.146887295865564, 0.9136750452845848, 2.2412969749109934, 0.7315907414326766, 0.7315907414326766, 0.7309228680246074, 0.7307030010799243, 0.7266369646052946, 0.7266369646052946, 0.7266369646052946, 0.7245804825583668, 0.7245804825583668, 0.7153905364647756, 0.7153905364647756, 0.7153905364647756, 0.7153905364647756, 1.7631303321599257, 3.5114740126712936, 1.8526074362378497, 2.037438480595081, 3.035562255652294, 1.5370322493124653, 14.948765905048994, 1.4488952935958637, 2.0373514525950647, 1.340897813840746, 17.19396880846145, 2.3325865705294717, 1.4876896197807885, 2.2805436309253255, 5.071636396186514, 2.2423341036116526, 1.0085310258787958, 0.9309338544597241, 0.7812458128838132, 0.7612813019501845, 0.7488268746217042, 0.7481346277454979, 0.744641200023197, 0.744641200023197, 0.7326398849894027, 0.7326398849894027, 0.7219684143554445, 0.7219684143554445, 0.7140075394704742, 1.9991029417137662, 0.7067813689198101, 0.803200167907413, 1.5486462460501662, 1.0093111161093475, 2.3212090285317872, 0.9280748808472425, 1.0116907222559486, 0.9630061479182377, 0.8502441079033403, 0.9213210830624678, 2.0511086735092876, 1.088727007581309, 1.1166588346130522, 0.9611091720983782, 0.8754703432686667, 5.071636396186514, 5.438717317532784, 1.0043549186680951, 3.3044730805840388, 4.9494600885198485, 2.8536101164832313, 17.19396880846145, 1.2046139342772522, 2.8902492919097753, 1.9958563824502027, 2.3064752532649484, 2.0373514525950647, 6.039064192756117, 1.4316979073441356, 9.213316358055627, 1.3308891859126306, 2.8025173781020376, 0.8309397202443267, 0.816498696063672, 0.8138699890178412, 1.3130915500967186, 1.9139431514743874, 0.799470450279138, 0.799470450279138, 0.7980985337106369, 0.7903762898228089, 0.7864553529512964, 0.7853164422774342, 0.965547510695291, 0.7737123717821018, 0.7737123717821018, 0.7674590276680014, 0.7674590276680014, 1.741098940512996, 0.7391393633278953, 0.7391393633278953, 0.7033881686613105, 0.7033881686613105, 0.7033881686613105, 1.6604892160547453, 0.7026385399122241, 0.7026385399122241, 0.7026385399122241, 1.5659550497502706, 0.9327952872349439, 0.6895441002268846, 0.6842131303528002, 0.6842131303528002, 0.6842131303528002, 0.9147760292190349, 2.8902492919097753, 2.0511086735092876, 2.71246028632407, 1.0302512457266386, 0.9814933655898566, 2.8025173781020376, 1.1940552747927102, 7.052288543787465, 3.6131493908246073, 3.0010676764986783, 4.231252440248638, 2.6092145809805896, 4.9494600885198485, 2.947642172751474, 0.9243572724625055, 0.8081468511688242, 0.7962002971261427, 0.7962002971261427, 0.7813419833865821, 0.7813419833865821, 0.7464687966885436, 0.7443043292328627, 0.7443043292328627, 0.7427063958643835, 0.7427063958643835, 0.7060140093663406, 0.6929872914870585, 0.6929872914870585, 0.6840414949909942, 0.6840414949909942, 1.4584325510782334, 1.472599790243251, 0.9241705732190924, 0.6558965176884076, 0.6558965176884076, 0.6558965176884076, 0.6486952598724647, 0.6486952598724647, 0.6486952598724647, 0.6486139303729562, 0.6486139303729562, 1.9224673348140768, 0.804356678246237, 0.6298620302779321, 0.9022026218285594, 1.2430382421640407, 5.211339968894936, 1.9491241656748466, 2.4678114524933465, 1.0878488221334708, 3.132538977156261, 9.213316358055627, 3.651184540320739, 7.052288543787465, 1.3334330489010293, 4.888990316891891, 4.9494600885198485, 1.4221644167658565, 14.948765905048994, 4.7045331126012835, 3.5114740126712936, 2.373882797852595, 1.6133978646738951, 2.2805436309253255, 2.017414285722743, 0.8348910578981038, 0.8059273283848007, 0.9872892937975128, 3.035562255652294, 0.7862651524759697, 0.7631086147020487, 0.7610738567880158, 0.7542698366864307, 0.7516845534909498, 0.7516845534909498, 1.004352575413031, 0.7226280610759996, 0.7105660497906978, 0.7105660497906978, 0.7105660497906978, 0.9867348496576214, 0.7048135467125647, 0.7048135467125647, 0.6647157775260921, 0.6572582076535399, 0.6572582076535399, 0.7947260363447028, 0.9199488810400578, 0.6261361578923924, 0.6261361578923924, 0.6261361578923924, 0.6261361578923924, 1.2778847221116576, 1.200488535676033, 0.6261361578923924, 1.4875130678978126, 0.6261361578923924, 3.5417329078614204, 2.477392656794552, 1.5323756564990254, 1.9396243873529384, 1.4875222403489274, 2.072373670501212, 3.5114740126712936, 3.1770738630874553, 2.8025173781020376, 2.8902492919097753, 14.948765905048994, 3.651184540320739, 4.9494600885198485], \"Category\": [\"Default\", \"Default\", \"Default\", \"Default\", \"Default\", \"Default\", \"Default\", \"Default\", \"Default\", \"Default\", \"Default\", \"Default\", \"Default\", \"Default\", \"Default\", \"Default\", \"Default\", \"Default\", \"Default\", \"Default\", \"Default\", \"Default\", \"Default\", \"Default\", \"Default\", \"Default\", \"Default\", \"Default\", \"Default\", \"Default\", \"Topic1\", \"Topic1\", \"Topic1\", \"Topic1\", \"Topic1\", \"Topic1\", \"Topic1\", \"Topic1\", \"Topic1\", \"Topic1\", \"Topic1\", \"Topic1\", \"Topic1\", \"Topic1\", \"Topic1\", \"Topic1\", \"Topic1\", \"Topic1\", \"Topic1\", \"Topic1\", \"Topic1\", \"Topic1\", \"Topic1\", \"Topic1\", \"Topic1\", \"Topic1\", \"Topic1\", \"Topic1\", \"Topic1\", \"Topic1\", \"Topic1\", \"Topic1\", \"Topic1\", \"Topic1\", \"Topic1\", \"Topic1\", \"Topic1\", \"Topic1\", \"Topic1\", \"Topic1\", \"Topic1\", \"Topic1\", \"Topic1\", \"Topic1\", \"Topic1\", \"Topic1\", \"Topic1\", \"Topic1\", \"Topic1\", \"Topic1\", \"Topic1\", \"Topic2\", \"Topic2\", \"Topic2\", \"Topic2\", \"Topic2\", \"Topic2\", \"Topic2\", \"Topic2\", \"Topic2\", \"Topic2\", \"Topic2\", \"Topic2\", \"Topic2\", \"Topic2\", \"Topic2\", \"Topic2\", \"Topic2\", \"Topic2\", \"Topic2\", \"Topic2\", \"Topic2\", \"Topic2\", \"Topic2\", \"Topic2\", \"Topic2\", \"Topic2\", \"Topic2\", \"Topic2\", \"Topic2\", \"Topic2\", \"Topic2\", \"Topic2\", \"Topic2\", \"Topic2\", \"Topic2\", \"Topic2\", \"Topic2\", \"Topic2\", \"Topic2\", \"Topic2\", \"Topic2\", \"Topic2\", \"Topic2\", \"Topic2\", \"Topic2\", \"Topic2\", \"Topic2\", \"Topic2\", \"Topic3\", \"Topic3\", \"Topic3\", \"Topic3\", \"Topic3\", \"Topic3\", \"Topic3\", \"Topic3\", \"Topic3\", \"Topic3\", \"Topic3\", \"Topic3\", \"Topic3\", \"Topic3\", \"Topic3\", \"Topic3\", \"Topic3\", \"Topic3\", \"Topic3\", \"Topic3\", \"Topic3\", \"Topic3\", \"Topic3\", \"Topic3\", \"Topic3\", \"Topic3\", \"Topic3\", \"Topic3\", \"Topic3\", \"Topic3\", \"Topic3\", \"Topic3\", \"Topic3\", \"Topic3\", \"Topic3\", \"Topic3\", \"Topic3\", \"Topic3\", \"Topic3\", \"Topic3\", \"Topic3\", \"Topic3\", \"Topic3\", \"Topic3\", \"Topic3\", \"Topic3\", \"Topic3\", \"Topic3\", \"Topic3\", \"Topic3\", \"Topic3\", \"Topic3\", \"Topic4\", \"Topic4\", \"Topic4\", \"Topic4\", \"Topic4\", \"Topic4\", \"Topic4\", \"Topic4\", \"Topic4\", \"Topic4\", \"Topic4\", \"Topic4\", \"Topic4\", \"Topic4\", \"Topic4\", \"Topic4\", \"Topic4\", \"Topic4\", \"Topic4\", \"Topic4\", \"Topic4\", \"Topic4\", \"Topic4\", \"Topic4\", \"Topic4\", \"Topic4\", \"Topic4\", \"Topic4\", \"Topic4\", \"Topic4\", \"Topic4\", \"Topic4\", \"Topic4\", \"Topic4\", \"Topic4\", \"Topic4\", \"Topic4\", \"Topic4\", \"Topic4\", \"Topic4\", \"Topic4\", \"Topic4\", \"Topic4\", \"Topic4\", \"Topic4\", \"Topic4\", \"Topic4\", \"Topic4\", \"Topic4\", \"Topic4\", \"Topic5\", \"Topic5\", \"Topic5\", \"Topic5\", \"Topic5\", \"Topic5\", \"Topic5\", \"Topic5\", \"Topic5\", \"Topic5\", \"Topic5\", \"Topic5\", \"Topic5\", \"Topic5\", \"Topic5\", \"Topic5\", \"Topic5\", \"Topic5\", \"Topic5\", \"Topic5\", \"Topic5\", \"Topic5\", \"Topic5\", \"Topic5\", \"Topic5\", \"Topic5\", \"Topic5\", \"Topic5\", \"Topic5\", \"Topic5\", \"Topic5\", \"Topic5\", \"Topic5\", \"Topic5\", \"Topic5\", \"Topic5\", \"Topic5\", \"Topic5\", \"Topic5\", \"Topic5\", \"Topic5\", \"Topic5\", \"Topic5\", \"Topic5\", \"Topic5\", \"Topic5\", \"Topic5\", \"Topic5\", \"Topic5\", \"Topic6\", \"Topic6\", \"Topic6\", \"Topic6\", \"Topic6\", \"Topic6\", \"Topic6\", \"Topic6\", \"Topic6\", \"Topic6\", \"Topic6\", \"Topic6\", \"Topic6\", \"Topic6\", \"Topic6\", \"Topic6\", \"Topic6\", \"Topic6\", \"Topic6\", \"Topic6\", \"Topic6\", \"Topic6\", \"Topic6\", \"Topic6\", \"Topic6\", \"Topic6\", \"Topic6\", \"Topic6\", \"Topic6\", \"Topic6\", \"Topic6\", \"Topic6\", \"Topic6\", \"Topic6\", \"Topic6\", \"Topic6\", \"Topic6\", \"Topic6\", \"Topic6\", \"Topic6\", \"Topic6\", \"Topic6\", \"Topic6\", \"Topic6\", \"Topic6\", \"Topic6\", \"Topic6\", \"Topic6\", \"Topic6\", \"Topic6\", \"Topic7\", \"Topic7\", \"Topic7\", \"Topic7\", \"Topic7\", \"Topic7\", \"Topic7\", \"Topic7\", \"Topic7\", \"Topic7\", \"Topic7\", \"Topic7\", \"Topic7\", \"Topic7\", \"Topic7\", \"Topic7\", \"Topic7\", \"Topic7\", \"Topic7\", \"Topic7\", \"Topic7\", \"Topic7\", \"Topic7\", \"Topic7\", \"Topic7\", \"Topic7\", \"Topic7\", \"Topic7\", \"Topic7\", \"Topic7\", \"Topic7\", \"Topic7\", \"Topic7\", \"Topic7\", \"Topic7\", \"Topic7\", \"Topic7\", \"Topic7\", \"Topic7\", \"Topic7\", \"Topic7\", \"Topic7\", \"Topic7\", \"Topic7\", \"Topic7\", \"Topic7\", \"Topic7\", \"Topic7\", \"Topic7\", \"Topic7\", \"Topic8\", \"Topic8\", \"Topic8\", \"Topic8\", \"Topic8\", \"Topic8\", \"Topic8\", \"Topic8\", \"Topic8\", \"Topic8\", \"Topic8\", \"Topic8\", \"Topic8\", \"Topic8\", \"Topic8\", \"Topic8\", \"Topic8\", \"Topic8\", \"Topic8\", \"Topic8\", \"Topic8\", \"Topic8\", \"Topic8\", \"Topic8\", \"Topic8\", \"Topic8\", \"Topic8\", \"Topic8\", \"Topic8\", \"Topic8\", \"Topic8\", \"Topic8\", \"Topic8\", \"Topic8\", \"Topic8\", \"Topic8\", \"Topic8\", \"Topic8\", \"Topic8\", \"Topic8\", \"Topic8\", \"Topic8\", \"Topic8\", \"Topic8\", \"Topic8\", \"Topic8\", \"Topic8\", \"Topic9\", \"Topic9\", \"Topic9\", \"Topic9\", \"Topic9\", \"Topic9\", \"Topic9\", \"Topic9\", \"Topic9\", \"Topic9\", \"Topic9\", \"Topic9\", \"Topic9\", \"Topic9\", \"Topic9\", \"Topic9\", \"Topic9\", \"Topic9\", \"Topic9\", \"Topic9\", \"Topic9\", \"Topic9\", \"Topic9\", \"Topic9\", \"Topic9\", \"Topic9\", \"Topic9\", \"Topic9\", \"Topic9\", \"Topic9\", \"Topic9\", \"Topic9\", \"Topic9\", \"Topic9\", \"Topic9\", \"Topic9\", \"Topic9\", \"Topic9\", \"Topic9\", \"Topic9\", \"Topic9\", \"Topic9\", \"Topic9\", \"Topic9\", \"Topic9\", \"Topic9\", \"Topic9\", \"Topic9\", \"Topic9\", \"Topic10\", \"Topic10\", \"Topic10\", \"Topic10\", \"Topic10\", \"Topic10\", \"Topic10\", \"Topic10\", \"Topic10\", \"Topic10\", \"Topic10\", \"Topic10\", \"Topic10\", \"Topic10\", \"Topic10\", \"Topic10\", \"Topic10\", \"Topic10\", \"Topic10\", \"Topic10\", \"Topic10\", \"Topic10\", \"Topic10\", \"Topic10\", \"Topic10\", \"Topic10\", \"Topic10\", \"Topic10\", \"Topic10\", \"Topic10\", \"Topic10\", \"Topic10\", \"Topic10\", \"Topic10\", \"Topic10\", \"Topic10\", \"Topic10\", \"Topic10\", \"Topic10\", \"Topic10\", \"Topic10\", \"Topic10\", \"Topic10\", \"Topic10\", \"Topic10\", \"Topic11\", \"Topic11\", \"Topic11\", \"Topic11\", \"Topic11\", \"Topic11\", \"Topic11\", \"Topic11\", \"Topic11\", \"Topic11\", \"Topic11\", \"Topic11\", \"Topic11\", \"Topic11\", \"Topic11\", \"Topic11\", \"Topic11\", \"Topic11\", \"Topic11\", \"Topic11\", \"Topic11\", \"Topic11\", \"Topic11\", \"Topic11\", \"Topic11\", \"Topic11\", \"Topic11\", \"Topic11\", \"Topic11\", \"Topic11\", \"Topic11\", \"Topic11\", \"Topic11\", \"Topic11\", \"Topic11\", \"Topic11\", \"Topic11\", \"Topic11\", \"Topic11\", \"Topic11\", \"Topic11\", \"Topic11\", \"Topic11\", \"Topic11\", \"Topic11\", \"Topic11\", \"Topic11\", \"Topic11\", \"Topic11\", \"Topic11\", \"Topic11\", \"Topic11\", \"Topic12\", \"Topic12\", \"Topic12\", \"Topic12\", \"Topic12\", \"Topic12\", \"Topic12\", \"Topic12\", \"Topic12\", \"Topic12\", \"Topic12\", \"Topic12\", \"Topic12\", \"Topic12\", \"Topic12\", \"Topic12\", \"Topic12\", \"Topic12\", \"Topic12\", \"Topic12\", \"Topic12\", \"Topic12\", \"Topic12\", \"Topic12\", \"Topic12\", \"Topic12\", \"Topic12\", \"Topic12\", \"Topic12\", \"Topic12\", \"Topic12\", \"Topic12\", \"Topic12\", \"Topic12\", \"Topic12\", \"Topic12\", \"Topic12\", \"Topic12\", \"Topic12\", \"Topic12\", \"Topic12\", \"Topic12\", \"Topic12\", \"Topic12\", \"Topic12\", \"Topic12\", \"Topic12\", \"Topic13\", \"Topic13\", \"Topic13\", \"Topic13\", \"Topic13\", \"Topic13\", \"Topic13\", \"Topic13\", \"Topic13\", \"Topic13\", \"Topic13\", \"Topic13\", \"Topic13\", \"Topic13\", \"Topic13\", \"Topic13\", \"Topic13\", \"Topic13\", \"Topic13\", \"Topic13\", \"Topic13\", \"Topic13\", \"Topic13\", \"Topic13\", \"Topic13\", \"Topic13\", \"Topic13\", \"Topic13\", \"Topic13\", \"Topic13\", \"Topic13\", \"Topic13\", \"Topic13\", \"Topic13\", \"Topic13\", \"Topic13\", \"Topic13\", \"Topic13\", \"Topic13\", \"Topic13\", \"Topic13\", \"Topic14\", \"Topic14\", \"Topic14\", \"Topic14\", \"Topic14\", \"Topic14\", \"Topic14\", \"Topic14\", \"Topic14\", \"Topic14\", \"Topic14\", \"Topic14\", \"Topic14\", \"Topic14\", \"Topic14\", \"Topic14\", \"Topic14\", \"Topic14\", \"Topic14\", \"Topic14\", \"Topic14\", \"Topic14\", \"Topic14\", \"Topic14\", \"Topic14\", \"Topic14\", \"Topic14\", \"Topic14\", \"Topic14\", \"Topic14\", \"Topic14\", \"Topic14\", \"Topic14\", \"Topic14\", \"Topic14\", \"Topic14\", \"Topic14\", \"Topic14\", \"Topic14\", \"Topic14\", \"Topic14\", \"Topic14\", \"Topic14\", \"Topic14\", \"Topic14\", \"Topic14\", \"Topic15\", \"Topic15\", \"Topic15\", \"Topic15\", \"Topic15\", \"Topic15\", \"Topic15\", \"Topic15\", \"Topic15\", \"Topic15\", \"Topic15\", \"Topic15\", \"Topic15\", \"Topic15\", \"Topic15\", \"Topic15\", \"Topic15\", \"Topic15\", \"Topic15\", \"Topic15\", \"Topic15\", \"Topic15\", \"Topic15\", \"Topic15\", \"Topic15\", \"Topic15\", \"Topic15\", \"Topic15\", \"Topic15\", \"Topic15\", \"Topic15\", \"Topic15\", \"Topic15\", \"Topic15\", \"Topic15\", \"Topic15\", \"Topic15\", \"Topic15\", \"Topic15\", \"Topic15\", \"Topic15\", \"Topic15\", \"Topic15\", \"Topic15\", \"Topic15\", \"Topic15\", \"Topic15\", \"Topic15\", \"Topic15\", \"Topic16\", \"Topic16\", \"Topic16\", \"Topic16\", \"Topic16\", \"Topic16\", \"Topic16\", \"Topic16\", \"Topic16\", \"Topic16\", \"Topic16\", \"Topic16\", \"Topic16\", \"Topic16\", \"Topic16\", \"Topic16\", \"Topic16\", \"Topic16\", \"Topic16\", \"Topic16\", \"Topic16\", \"Topic16\", \"Topic16\", \"Topic16\", \"Topic16\", \"Topic16\", \"Topic16\", \"Topic16\", \"Topic16\", \"Topic16\", \"Topic16\", \"Topic16\", \"Topic16\", \"Topic16\", \"Topic16\", \"Topic16\", \"Topic16\", \"Topic16\", \"Topic16\", \"Topic16\", \"Topic16\", \"Topic16\", \"Topic16\", \"Topic16\", \"Topic16\", \"Topic16\", \"Topic16\", \"Topic17\", \"Topic17\", \"Topic17\", \"Topic17\", \"Topic17\", \"Topic17\", \"Topic17\", \"Topic17\", \"Topic17\", \"Topic17\", \"Topic17\", \"Topic17\", \"Topic17\", \"Topic17\", \"Topic17\", \"Topic17\", \"Topic17\", \"Topic17\", \"Topic17\", \"Topic17\", \"Topic17\", \"Topic17\", \"Topic17\", \"Topic17\", \"Topic17\", \"Topic17\", \"Topic17\", \"Topic17\", \"Topic17\", \"Topic17\", \"Topic17\", \"Topic17\", \"Topic17\", \"Topic17\", \"Topic17\", \"Topic17\", \"Topic17\", \"Topic17\", \"Topic17\", \"Topic17\", \"Topic17\", \"Topic17\", \"Topic17\", \"Topic17\", \"Topic17\", \"Topic17\", \"Topic17\", \"Topic18\", \"Topic18\", \"Topic18\", \"Topic18\", \"Topic18\", \"Topic18\", \"Topic18\", \"Topic18\", \"Topic18\", \"Topic18\", \"Topic18\", \"Topic18\", \"Topic18\", \"Topic18\", \"Topic18\", \"Topic18\", \"Topic18\", \"Topic18\", \"Topic18\", \"Topic18\", \"Topic18\", \"Topic18\", \"Topic18\", \"Topic18\", \"Topic18\", \"Topic18\", \"Topic18\", \"Topic18\", \"Topic18\", \"Topic18\", \"Topic18\", \"Topic18\", \"Topic18\", \"Topic18\", \"Topic18\", \"Topic18\", \"Topic18\", \"Topic18\", \"Topic18\", \"Topic18\", \"Topic18\", \"Topic18\", \"Topic18\", \"Topic18\", \"Topic18\", \"Topic18\", \"Topic18\", \"Topic19\", \"Topic19\", \"Topic19\", \"Topic19\", \"Topic19\", \"Topic19\", \"Topic19\", \"Topic19\", \"Topic19\", \"Topic19\", \"Topic19\", \"Topic19\", \"Topic19\", \"Topic19\", \"Topic19\", \"Topic19\", \"Topic19\", \"Topic19\", \"Topic19\", \"Topic19\", \"Topic19\", \"Topic19\", \"Topic19\", \"Topic19\", \"Topic19\", \"Topic19\", \"Topic19\", \"Topic19\", \"Topic19\", \"Topic19\", \"Topic19\", \"Topic19\", \"Topic19\", \"Topic19\", \"Topic19\", \"Topic19\", \"Topic19\", \"Topic19\", \"Topic19\", \"Topic19\", \"Topic19\", \"Topic19\", \"Topic19\", \"Topic19\", \"Topic19\", \"Topic19\", \"Topic19\", \"Topic19\", \"Topic20\", \"Topic20\", \"Topic20\", \"Topic20\", \"Topic20\", \"Topic20\", \"Topic20\", \"Topic20\", \"Topic20\", \"Topic20\", \"Topic20\", \"Topic20\", \"Topic20\", \"Topic20\", \"Topic20\", \"Topic20\", \"Topic20\", \"Topic20\", \"Topic20\", \"Topic20\", \"Topic20\", \"Topic20\", \"Topic20\", \"Topic20\", \"Topic20\", \"Topic20\", \"Topic20\", \"Topic20\", \"Topic20\", \"Topic20\", \"Topic20\", \"Topic20\", \"Topic20\", \"Topic20\", \"Topic20\", \"Topic20\", \"Topic20\", \"Topic20\", \"Topic20\", \"Topic20\", \"Topic20\", \"Topic20\", \"Topic20\", \"Topic20\", \"Topic20\", \"Topic20\", \"Topic20\", \"Topic20\"], \"logprob\": [30.0, 29.0, 28.0, 27.0, 26.0, 25.0, 24.0, 23.0, 22.0, 21.0, 20.0, 19.0, 18.0, 17.0, 16.0, 15.0, 14.0, 13.0, 12.0, 11.0, 10.0, 9.0, 8.0, 7.0, 6.0, 5.0, 4.0, 3.0, 2.0, 1.0, -4.1308, -5.1549, -5.2067, -5.2749, -4.0669, -4.8892, -5.4328, -5.447, -3.6968, -4.7563, -5.6142, -5.6476, -4.0136, -5.7293, -5.8079, -5.8401, -5.8498, -5.8671, -5.8838, -5.8877, -5.1313, -5.2486, -5.9257, -5.9257, -5.9467, -5.0257, -5.9539, -5.9803, -5.9803, -5.9803, -5.3249, -4.2126, -4.7104, -5.1144, -5.1074, -4.8148, -4.4093, -3.9917, -4.2972, -4.6799, -5.4556, -4.9065, -4.8135, -4.6292, -4.2483, -4.434, -5.1985, -4.8889, -5.2034, -5.163, -5.1478, -4.1063, -4.5132, -4.9553, -5.0473, -5.1532, -5.016, -5.0776, -5.2762, -5.3129, -4.9166, -4.4325, -5.0723, -5.5187, -5.5689, -5.5698, -5.1904, -5.6273, -5.6549, -5.4564, -5.7383, -5.7582, -5.7582, -5.7582, -5.7664, -5.7664, -5.7768, -5.8037, -2.725, -5.1254, -5.8434, -5.8434, -3.172, -3.4547, -4.2641, -3.6323, -4.8355, -5.4801, -4.2243, -4.2465, -5.2692, -5.102, -5.2426, -5.0676, -5.3171, -5.2534, -5.2237, -5.2769, -5.2464, -3.8558, -4.915, -3.7207, -5.1916, -5.2285, -4.2948, -4.1515, -5.3176, -5.3666, -5.471, -5.5193, -5.5472, -5.5956, -5.5971, -5.5971, -5.5971, -5.6114, -5.178, -5.6517, -5.7353, -5.7556, -5.7812, -5.7885, -5.7885, -5.4102, -5.1608, -5.8391, -5.8391, -5.8671, -5.8877, -4.6173, -4.2265, -5.5351, -5.3454, -5.1953, -4.3102, -5.1341, -4.0641, -4.1722, -4.6202, -4.192, -5.2479, -4.3522, -4.9015, -4.8511, -4.9979, -4.4898, -4.9919, -5.0409, -5.3018, -5.1881, -5.3338, -3.8965, -5.0288, -5.2038, -5.0313, -5.353, -5.0695, -5.4496, -5.4837, -5.4837, -3.8358, -5.1087, -5.5817, -5.5817, -4.1689, -5.6501, -5.3822, -5.7012, -5.7012, -5.7012, -5.824, -5.8293, -5.8293, -5.8581, -5.8622, -5.8734, -5.8734, -5.8734, -5.9322, -5.9322, -5.9322, -5.9322, -5.1267, -5.4212, -5.1739, -5.1819, -5.2422, -5.5389, -5.4963, -3.8353, -3.937, -5.638, -4.2091, -5.3751, -4.6859, -5.0232, -5.1718, -5.1853, -5.2961, -5.3955, -5.3987, -3.6514, -3.7039, -4.3976, -3.616, -4.6186, -3.1797, -5.3757, -5.4292, -5.4903, -5.3071, -4.7317, -5.0408, -5.5462, -5.559, -5.6138, -5.635, -5.6427, -5.6859, -5.688, -4.7375, -5.2469, -5.7816, -5.7816, -5.7816, -5.4863, -5.3105, -5.3699, -5.67, -5.7127, -6.0214, -5.2453, -5.4026, -5.1554, -4.7665, -4.5543, -5.4569, -4.6446, -5.1897, -5.3751, -4.3689, -4.9051, -4.5135, -5.0013, -5.0349, -5.222, -5.3295, -5.2025, -5.3261, -5.3292, -4.7241, -5.1011, -3.5587, -5.2503, -5.2606, -5.3418, -4.9495, -4.9473, -5.5415, -5.5415, -5.3747, -5.1489, -5.579, -5.383, -5.6438, -5.6438, -5.6438, -5.6603, -5.6615, -5.6615, -5.6615, -5.6748, -4.6841, -5.1266, -5.7143, -5.7143, -5.7369, -5.765, -5.7794, -5.5979, -3.7916, -5.5575, -4.3797, -4.0943, -4.9002, -5.2128, -4.7019, -4.4678, -5.2861, -5.4652, -4.5989, -5.0555, -4.7948, -5.4325, -4.9843, -5.0712, -5.3349, -5.3637, -5.3789, -5.3214, -4.1094, -4.4829, -4.6826, -4.3947, -4.5769, -3.5725, -4.1253, -3.6413, -3.8798, -5.1994, -5.4773, -4.8337, -5.3244, -5.616, -5.616, -5.6197, -5.6197, -5.6197, -5.6949, -5.6949, -5.6949, -5.7088, -5.7192, -5.7192, -5.7192, -5.2844, -5.7452, -5.7452, -5.7452, -5.7452, -5.0347, -5.2523, -5.0893, -4.9937, -5.0817, -4.9207, -5.567, -4.6159, -4.3738, -4.8286, -5.4022, -4.2681, -4.6475, -4.5756, -5.05, -4.9408, -5.1187, -5.282, -5.2567, -5.265, -4.8361, -5.2343, -5.2868, -5.2868, -5.0648, -5.3549, -5.4393, -5.4473, -5.4473, -5.4629, -5.4741, -5.4763, -5.4763, -5.594, -5.594, -5.6815, -5.7054, -5.7054, -5.7282, -5.4881, -5.7834, -5.7981, -5.7981, -5.7981, -5.829, -5.829, -5.829, -5.1642, -5.8418, -5.8418, -5.8418, -5.315, -4.4981, -4.8901, -4.2966, -5.4546, -4.6169, -5.5724, -5.3938, -4.7346, -5.1735, -5.3537, -5.2249, -5.3941, -5.3435, -5.266, -5.4668, -4.3771, -4.9658, -4.9778, -5.0119, -4.3497, -5.2717, -5.2928, -5.2928, -5.3641, -5.4066, -5.4711, -5.4911, -4.4317, -4.9658, -5.5891, -4.2512, -5.2585, -5.63, -5.63, -5.63, -5.63, -5.6312, -5.6428, -5.4717, -5.6655, -5.7161, -5.416, -5.7739, -5.7739, -5.7739, -5.0518, -5.4051, -5.4477, -5.4717, -5.1906, -4.8012, -5.0182, -4.3881, -5.1478, -4.9675, -5.4638, -4.8252, -5.1255, -5.1267, -5.375, -5.3652, -5.2861, -5.3686, -5.4104, -3.6456, -3.6412, -3.2913, -4.548, -5.1706, -4.7009, -5.2477, -5.3042, -5.1439, -5.3532, -5.3532, -5.3559, -5.3575, -5.4028, -5.4636, -5.5655, -5.5655, -5.5737, -5.5737, -5.5807, -5.5807, -5.6312, -5.4144, -5.52, -5.7157, -5.7157, -5.7157, -5.7157, -5.7367, -5.7367, -5.7367, -5.7367, -3.6158, -5.4553, -5.1867, -5.1433, -5.4503, -5.0501, -5.2859, -5.4491, -5.3874, -5.3854, -5.3656, -5.5183, -5.5048, -4.6179, -5.0024, -4.9872, -5.3084, -5.3885, -5.391, -5.391, -5.4092, -5.4092, -5.4092, -5.4092, -5.4092, -5.4092, -5.4707, -5.4947, -5.4947, -5.5341, -5.5341, -5.5413, -5.5413, -5.5716, -5.5716, -5.5815, -5.5972, -5.5972, -5.6095, -5.6095, -5.6204, -5.6322, -5.6322, -5.6322, -5.6322, -5.1109, -5.2067, -5.4079, -5.2361, -4.6938, -5.4477, -4.8951, -5.225, -5.19, -5.4776, -5.1143, -5.2393, -5.2609, -5.1742, -5.3846, -5.135, -5.2059, -5.371, -5.3624, -5.3975, -4.595, -5.0232, -5.0655, -5.1763, -5.2886, -5.2983, -5.3812, -5.3812, -5.3885, -5.4121, -5.4155, -4.1848, -5.4519, -5.4729, -5.4729, -5.5342, -5.5465, -5.549, -5.549, -5.549, -5.5583, -5.5829, -5.3314, -5.2986, -5.3456, -5.6706, -5.6706, -5.6706, -5.6824, -5.2012, -5.3631, -5.2768, -5.472, -5.1316, -4.4007, -5.1117, -5.2774, -5.1867, -5.1509, -5.1838, -5.078, -5.2806, -5.395, -5.1471, -5.272, -5.3495, -5.4076, -4.8272, -4.9604, -3.6494, -5.1624, -5.182, -5.2091, -5.2091, -5.2465, -5.3783, -5.3789, -5.3789, -5.4387, -5.4387, -5.3061, -5.4562, -5.4562, -5.559, -5.559, -5.5681, -5.3037, -5.676, -5.676, -5.2734, -5.7164, -5.7164, -5.7164, -5.7188, -5.7188, -5.7188, -5.3408, -5.0244, -5.3195, -4.8118, -5.3487, -5.2285, -5.2785, -4.6795, -5.399, -4.8757, -5.227, -5.5084, -4.2893, -5.1992, -5.1992, -3.9582, -5.3541, -5.3541, -5.3865, -5.4249, -5.4634, -5.4634, -5.4634, -5.5405, -5.5405, -5.568, -5.5696, -5.5696, -5.6348, -5.2269, -5.6509, -5.6509, -5.6509, -5.6576, -5.2687, -5.5587, -5.2296, -5.8185, -5.8185, -5.8185, -5.8185, -5.8185, -4.665, -5.2744, -5.5962, -4.4242, -5.3304, -4.8982, -5.0801, -4.5353, -4.5026, -5.4843, -5.0842, -5.2287, -5.1169, -5.3319, -5.5192, -5.5341, -4.4921, -4.5458, -5.0234, -5.1176, -5.1435, -5.2414, -5.3632, -5.366, -5.366, -5.3965, -5.4203, -5.4229, -5.4283, -5.5136, -5.5464, -5.1903, -5.5867, -5.5867, -5.5867, -5.6045, -5.6045, -5.6164, -5.6263, -5.6263, -5.6696, -5.7039, -5.7099, -5.7099, -5.7099, -5.4561, -4.8282, -4.8493, -5.453, -4.7878, -5.1684, -5.2593, -5.1501, -5.1346, -5.3413, -4.7262, -5.4561, -4.5624, -5.1404, -4.5071, -5.0636, -5.1804, -5.0524, -5.3083, -5.3351, -4.2411, -4.8617, -4.8166, -5.1566, -5.198, -5.2442, -5.3118, -5.3118, -5.3767, -5.3767, -5.3767, -5.4125, -5.4125, -5.4238, -5.4326, -5.4326, -5.0396, -5.2691, -4.3866, -5.5332, -5.5332, -5.5359, -5.5367, -5.5528, -5.5528, -5.5528, -5.561, -5.561, -5.5987, -5.5987, -5.5987, -5.5987, -4.9632, -4.5203, -4.9583, -5.0127, -4.9265, -5.2238, -4.5234, -5.3209, -5.2157, -5.3463, -4.6961, -5.2478, -5.344, -5.3115, -5.4056, -3.6653, -4.7374, -4.895, -5.2944, -5.3621, -5.4068, -5.4094, -5.4223, -5.4223, -5.4681, -5.4681, -5.5106, -5.5106, -5.5435, -4.5243, -5.5744, -5.5114, -4.8855, -5.3548, -4.5302, -5.463, -5.3935, -5.4655, -5.5989, -5.5239, -4.7353, -5.374, -5.3546, -5.505, -5.5989, -3.8679, -3.9605, -5.4655, -4.6665, -4.4477, -4.9123, -4.468, -5.3953, -5.1586, -5.2611, -5.2813, -5.3074, -5.1393, -5.3835, -5.2238, -5.3953, -5.3876, -5.1398, -5.1814, -5.1892, -4.72, -4.3481, -5.2328, -5.2328, -5.237, -5.2613, -5.2739, -5.2776, -5.0895, -5.3158, -5.3158, -5.3371, -5.3371, -4.571, -5.4394, -5.4394, -5.5857, -5.5857, -5.5857, -4.7268, -5.589, -5.589, -5.589, -4.8189, -5.3439, -5.6486, -5.6739, -5.6739, -5.6739, -5.4326, -4.5348, -4.955, -4.7992, -5.3725, -5.4483, -5.0966, -5.4109, -4.843, -5.0715, -5.1302, -5.0831, -5.2104, -5.2447, -5.3321, -4.8631, -5.1632, -5.1998, -5.1998, -5.2474, -5.2474, -5.3687, -5.3767, -5.3767, -5.3827, -5.3827, -5.5307, -5.589, -5.589, -5.6312, -5.6312, -4.9664, -4.9649, -5.4327, -5.7766, -5.7766, -5.7766, -5.8174, -5.8174, -5.8174, -5.8179, -5.8179, -4.7879, -5.6856, -5.9329, -5.5858, -5.2972, -4.2482, -5.0494, -4.9516, -5.4883, -5.0186, -4.5908, -5.0366, -4.8082, -5.5002, -5.2549, -5.2635, -5.5002, -5.2507, -5.3877, -5.4186, -5.4948, -4.0749, -3.793, -4.0087, -5.0592, -5.1436, -4.9476, -3.85, -5.2052, -5.283, -5.2902, -5.3144, -5.3238, -5.3238, -5.0849, -5.4355, -5.4859, -5.4859, -5.4859, -5.1728, -5.5108, -5.5108, -5.7043, -5.7449, -5.7449, -5.6595, -5.5413, -5.9343, -5.9343, -5.9343, -5.9343, -5.2407, -5.3046, -5.9343, -5.1373, -5.9343, -4.4878, -4.9353, -5.3069, -5.2336, -5.3677, -5.2457, -5.0635, -5.1246, -5.167, -5.236, -4.9894, -5.2801, -5.3143], \"loglift\": [30.0, 29.0, 28.0, 27.0, 26.0, 25.0, 24.0, 23.0, 22.0, 21.0, 20.0, 19.0, 18.0, 17.0, 16.0, 15.0, 14.0, 13.0, 12.0, 11.0, 10.0, 9.0, 8.0, 7.0, 6.0, 5.0, 4.0, 3.0, 2.0, 1.0, 2.1441, 2.035, 2.0133, 1.9838, 1.9619, 1.9114, 1.911, 1.9041, 1.8612, 1.8211, 1.8196, 1.8019, 1.7668, 1.7574, 1.7131, 1.6945, 1.6888, 1.6787, 1.6688, 1.6665, 1.6658, 1.6527, 1.6438, 1.6438, 1.631, 1.6279, 1.6267, 1.6105, 1.6105, 1.6105, 1.5993, 1.5628, 1.5325, 1.548, 1.5151, 1.4605, 1.2211, 1.0649, 1.0583, 1.1813, 1.5065, 1.2221, 0.9234, 0.7414, 0.231, 0.371, 1.0265, 0.1916, 1.0101, 0.6983, -0.5285, 2.2895, 2.1859, 2.1723, 2.1356, 2.0908, 2.0679, 2.0363, 2.0353, 2.018, 1.9995, 1.9851, 1.9402, 1.9148, 1.888, 1.8875, 1.8838, 1.8561, 1.8407, 1.8195, 1.7931, 1.7814, 1.7814, 1.7814, 1.7766, 1.7766, 1.7705, 1.7545, 1.7544, 1.75, 1.7306, 1.7306, 1.6329, 1.602, 1.4605, 0.987, 1.3786, 1.6324, 0.8563, 0.8567, 1.4829, 1.3147, 1.2168, 0.8138, 1.1733, 0.9842, 0.6681, 0.7624, 0.4875, 2.3122, 2.2139, 2.1424, 2.097, 2.08, 2.0497, 2.0426, 2.0375, 2.0133, 1.9598, 1.9341, 1.9189, 1.8923, 1.8914, 1.8914, 1.8914, 1.8835, 1.874, 1.8606, 1.8121, 1.8, 1.7847, 1.7803, 1.7803, 1.7608, 1.7558, 1.7494, 1.7494, 1.732, 1.7192, 1.6829, 1.6575, 1.7041, 1.6627, 1.6258, 1.4131, 1.5149, 1.0392, 0.9084, 1.0529, 0.613, 1.479, 0.2671, 0.9738, 0.8492, 0.9003, -0.0105, 0.6384, 0.6837, 1.3607, 0.6731, 0.558, 2.3339, 2.2754, 2.1903, 2.1508, 2.1117, 2.0887, 2.0579, 2.0384, 2.0384, 2.0118, 2.0116, 1.9806, 1.9806, 1.9726, 1.9389, 1.9197, 1.9071, 1.9071, 1.9071, 1.828, 1.8245, 1.8245, 1.8055, 1.8027, 1.7953, 1.7953, 1.7953, 1.7556, 1.7556, 1.7556, 1.7556, 1.736, 1.7438, 1.7283, 1.7151, 1.7063, 1.6681, 1.6234, 0.784, 0.5424, 1.6816, 0.5958, 1.3903, 0.3708, 0.8521, 1.0818, 0.4451, 0.4271, 0.8474, 0.4625, 2.7074, 2.6977, 2.5249, 2.4641, 2.4493, 2.3459, 2.1019, 2.072, 2.037, 2.0363, 2.0337, 2.0315, 2.0041, 1.9965, 1.9634, 1.9504, 1.9457, 1.9187, 1.9174, 1.8995, 1.8728, 1.8576, 1.8576, 1.8576, 1.7507, 1.7505, 1.7452, 1.7153, 1.7132, 1.6955, 1.6814, 1.6761, 1.5875, 1.471, 1.2934, 1.6583, 1.0787, 1.4431, 1.5818, 0.4361, 0.7952, 0.1057, 0.8827, 0.7405, 1.0533, 1.2828, 0.5344, 0.888, 0.2288, 2.3292, 2.2536, 2.1783, 2.1779, 2.1724, 2.1287, 2.0315, 2.0178, 2.0143, 2.0143, 1.9986, 1.9933, 1.9917, 1.9594, 1.9519, 1.9519, 1.9519, 1.9416, 1.9409, 1.9409, 1.9409, 1.9325, 1.9267, 1.9136, 1.9075, 1.9075, 1.8931, 1.8749, 1.8655, 1.8336, 1.579, 1.8034, 1.2933, 0.7107, 1.2818, 1.4028, 0.8238, 0.0115, 1.3261, 1.6094, 0.0204, 0.8428, 0.2857, 1.5303, 0.1189, -0.0145, 0.7451, 0.8989, 0.8351, 0.0341, 2.6242, 2.5117, 2.439, 2.3734, 2.3265, 2.2888, 2.2766, 2.2401, 2.1595, 2.0656, 2.0534, 1.9874, 1.9815, 1.9701, 1.9701, 1.9678, 1.9678, 1.9678, 1.9207, 1.9207, 1.9207, 1.9119, 1.9052, 1.9052, 1.9052, 1.8886, 1.8885, 1.8885, 1.8885, 1.8885, 1.7932, 1.7685, 1.5573, 1.4945, 1.4794, 1.3328, 1.7937, 0.9421, 0.6829, 1.0326, 1.5923, 0.2112, 0.4331, 0.0436, 0.8483, 0.4147, 0.6046, 0.9555, 0.4163, 0.4689, 2.4046, 2.2113, 2.1828, 2.1828, 2.1786, 2.1449, 2.0964, 2.0917, 2.0917, 2.0825, 2.0758, 2.0745, 2.0745, 2.0029, 2.0029, 1.9475, 1.9321, 1.9321, 1.9172, 1.8884, 1.8808, 1.871, 1.871, 1.871, 1.8503, 1.8503, 1.8503, 1.8439, 1.8416, 1.8416, 1.8416, 1.682, 1.4002, 1.4359, 1.0589, 1.6064, 0.7537, 1.613, 1.1422, -0.1153, 0.7018, 0.8604, 0.4482, 0.9504, 0.5484, -0.2093, 0.3963, 2.5992, 2.3611, 2.3554, 2.3389, 2.2659, 2.2038, 2.192, 2.192, 2.1517, 2.127, 2.0887, 2.0767, 2.0501, 2.0416, 2.0161, 2.0023, 2.0019, 1.9902, 1.9902, 1.9902, 1.9902, 1.9895, 1.982, 1.9682, 1.9674, 1.9344, 1.9126, 1.896, 1.896, 1.896, 1.8928, 1.8854, 1.8857, 1.8738, 1.7622, 1.4922, 1.3156, 0.2311, 1.1783, 0.8129, 1.6613, 0.2781, 0.9138, 0.5735, 1.4556, 1.3051, 0.3442, 0.5154, -0.0399, 2.8422, 2.7259, 2.4426, 2.306, 2.288, 2.2862, 2.2453, 2.2131, 2.1925, 2.1846, 2.1846, 2.183, 2.1821, 2.1551, 2.1181, 2.0542, 2.0542, 2.049, 2.049, 2.0445, 2.0445, 2.0117, 1.978, 1.9579, 1.9557, 1.9557, 1.9557, 1.9557, 1.9415, 1.9415, 1.9415, 1.9415, 1.4647, 1.7924, 1.5274, 1.3868, 1.5075, 0.6732, 0.9281, 1.1818, 0.6415, 0.4899, 0.3075, 1.3977, 1.0594, 2.4246, 2.3831, 2.2623, 2.2169, 2.1696, 2.1681, 2.1681, 2.1571, 2.1571, 2.1571, 2.1571, 2.1571, 2.1571, 2.1195, 2.1045, 2.1045, 2.0797, 2.0797, 2.0751, 2.0751, 2.0557, 2.0557, 2.0494, 2.0392, 2.0392, 2.0312, 2.0312, 2.0241, 2.0163, 2.0163, 2.0163, 2.0163, 1.8856, 1.8788, 1.8469, 1.6159, 0.6767, 1.7894, 0.8052, 1.3872, 1.1748, 1.8171, 0.7775, 0.9547, 1.0144, 0.6062, 1.2466, -0.6556, -0.1492, 0.4044, -0.0069, 0.4501, 2.4126, 2.3759, 2.354, 2.2945, 2.2312, 2.2255, 2.1766, 2.1766, 2.1722, 2.1579, 2.1559, 2.1467, 2.1336, 2.1206, 2.1206, 2.082, 2.0741, 2.0725, 2.0725, 2.0725, 2.0666, 2.0507, 2.0476, 2.0431, 2.0382, 1.993, 1.993, 1.993, 1.9851, 1.9839, 1.9795, 1.8386, 1.911, 1.7224, 0.7026, 1.438, 1.6392, 1.4599, 1.3851, 1.3804, 0.6559, 1.14, 1.5921, -0.5278, 0.286, -0.8701, 1.0743, 2.4743, 2.4102, 2.4098, 2.3046, 2.2938, 2.2788, 2.2788, 2.2577, 2.1806, 2.1802, 2.1802, 2.1439, 2.1439, 2.14, 2.1331, 2.1331, 2.0682, 2.0682, 2.0623, 2.0027, 1.9913, 1.9913, 1.9683, 1.9641, 1.9641, 1.9641, 1.9625, 1.9625, 1.9625, 1.9158, 1.9115, 1.7551, 1.2561, 1.5911, 1.4329, 1.4139, 0.3772, 1.527, 0.4798, 0.6342, 1.344, 2.4797, 2.2882, 2.2882, 2.2239, 2.1986, 2.1986, 2.1791, 2.1557, 2.132, 2.132, 2.132, 2.0832, 2.0832, 2.0655, 2.0645, 2.0645, 2.0218, 2.0111, 2.011, 2.011, 2.011, 2.0066, 1.9577, 1.9177, 1.9165, 1.8964, 1.8964, 1.8964, 1.8964, 1.8964, 1.812, 1.8381, 1.8353, 1.4676, 1.7409, 1.3952, 1.4288, 0.8202, 0.1167, 1.6522, 0.6912, 0.6552, -0.0137, 0.7359, 1.4387, 1.504, 2.6267, 2.4772, 2.3866, 2.3368, 2.3226, 2.2678, 2.1964, 2.1947, 2.1947, 2.1762, 2.1616, 2.1601, 2.1567, 2.1032, 2.0822, 2.0575, 2.0561, 2.0561, 2.0561, 2.0444, 2.0444, 2.0366, 2.03, 2.03, 2.0011, 1.978, 1.9738, 1.9738, 1.9738, 1.9371, 1.9285, 1.8776, 1.9356, 1.7004, 1.8126, 1.791, 1.7165, 1.7038, 1.8193, 1.149, 1.8737, 0.5409, 1.3414, 0.1122, 0.8204, 0.5534, -0.2475, 1.1511, -0.8557, 2.6691, 2.486, 2.3781, 2.3315, 2.308, 2.2814, 2.2415, 2.2415, 2.2022, 2.2022, 2.2022, 2.1801, 2.1801, 2.173, 2.1675, 2.1675, 2.1472, 2.1451, 2.1302, 2.1032, 2.1032, 2.1015, 2.1009, 2.0904, 2.0904, 2.0904, 2.085, 2.085, 2.0602, 2.0602, 2.0602, 2.0602, 1.7936, 1.5476, 1.749, 1.5995, 1.287, 1.6702, 0.0958, 1.6322, 1.3965, 1.6843, -0.2168, 1.2291, 1.5827, 1.188, 0.2946, 2.8511, 2.578, 2.5004, 2.2764, 2.2345, 2.2063, 2.2047, 2.1965, 2.1965, 2.1669, 2.1669, 2.1391, 2.1391, 2.1172, 2.107, 2.0965, 2.0317, 2.001, 1.9598, 1.9516, 1.9356, 1.9188, 1.8961, 1.8872, 1.882, 1.8703, 1.8649, 1.859, 1.8586, 1.858, 1.8323, 1.6699, 1.854, 1.4622, 1.277, 1.363, 0.0113, 1.7424, 1.1039, 1.3717, 1.2069, 1.3049, 0.3863, 1.5815, -0.1205, 1.6427, 0.9058, 2.3693, 2.3452, 2.3407, 2.3315, 2.3266, 2.3149, 2.3149, 2.3124, 2.2978, 2.2902, 2.288, 2.2695, 2.2646, 2.2646, 2.2515, 2.2515, 2.1984, 2.1867, 2.1867, 2.0901, 2.0901, 2.0901, 2.09, 2.0878, 2.0878, 2.0878, 2.0565, 2.0495, 2.047, 2.0295, 2.0295, 2.0295, 1.9804, 1.7277, 1.6505, 1.5269, 1.9216, 1.8943, 1.1968, 1.7357, 0.5276, 0.9678, 1.0948, 0.7983, 1.1544, 0.48, 0.9108, 2.5394, 2.3737, 2.352, 2.352, 2.3233, 2.3233, 2.2476, 2.2425, 2.2425, 2.2387, 2.2387, 2.1413, 2.1016, 2.1016, 2.0725, 2.0725, 1.9801, 1.9719, 1.97, 1.9691, 1.9691, 1.9691, 1.9393, 1.9393, 1.9393, 1.9389, 1.9389, 1.8824, 1.856, 1.8532, 1.841, 1.8092, 1.4248, 1.6071, 1.469, 1.7514, 1.1635, 0.5125, 0.9923, 0.5623, 1.536, 0.482, 0.4611, 1.4716, -0.6314, 0.3877, 0.6493, 0.9646, 2.7707, 2.7065, 2.6134, 2.4451, 2.3961, 2.3891, 2.3635, 2.3591, 2.3112, 2.3068, 2.2915, 2.2856, 2.2856, 2.2347, 2.2132, 2.1797, 2.1797, 2.1797, 2.1645, 2.1629, 2.1629, 2.028, 1.9987, 1.9987, 1.8942, 1.866, 1.8578, 1.8578, 1.8578, 1.8578, 1.838, 1.8366, 1.8578, 1.7895, 1.8578, 1.5715, 1.4814, 1.5902, 1.4278, 1.5591, 1.3495, 1.0044, 1.0433, 1.1264, 1.0265, -0.3701, 0.7488, 0.4103]}, \"token.table\": {\"Topic\": [10, 18, 17, 3, 1, 2, 3, 4, 6, 7, 16, 17, 3, 15, 20, 2, 7, 2, 3, 17, 2, 1, 4, 1, 6, 2, 1, 3, 17, 1, 2, 3, 4, 5, 6, 2, 6, 14, 4, 5, 2, 3, 4, 1, 1, 3, 7, 12, 7, 1, 1, 5, 3, 15, 1, 1, 2, 7, 4, 3, 5, 9, 2, 3, 6, 9, 12, 15, 19, 2, 14, 5, 2, 10, 3, 1, 1, 7, 17, 15, 11, 15, 16, 1, 3, 3, 6, 19, 1, 7, 7, 1, 2, 20, 17, 2, 6, 1, 13, 16, 20, 3, 5, 9, 18, 3, 6, 7, 8, 2, 2, 10, 1, 20, 8, 5, 2, 3, 3, 7, 14, 9, 3, 4, 15, 5, 2, 13, 16, 1, 2, 4, 6, 7, 13, 18, 7, 1, 3, 3, 7, 10, 5, 1, 1, 9, 3, 7, 7, 15, 2, 18, 18, 16, 17, 5, 2, 6, 14, 2, 5, 7, 16, 6, 9, 14, 2, 7, 2, 8, 1, 5, 4, 10, 5, 12, 9, 3, 5, 11, 17, 1, 2, 3, 7, 9, 13, 20, 9, 1, 9, 4, 1, 7, 8, 13, 14, 2, 1, 17, 4, 1, 2, 3, 4, 5, 6, 7, 8, 9, 14, 15, 16, 1, 1, 7, 2, 6, 2, 1, 5, 6, 3, 1, 2, 3, 5, 1, 2, 3, 6, 7, 10, 1, 6, 8, 11, 1, 17], \"Freq\": [0.7140489997391006, 0.6022321556390225, 0.9915411369012052, 0.4640885644401268, 0.1163198574034731, 0.4071195009121559, 0.05815992870173655, 0.1163198574034731, 0.05815992870173655, 0.05815992870173655, 0.05815992870173655, 0.05815992870173655, 0.5504340225642202, 0.5504340225642202, 0.6198099191126195, 0.2363366436111852, 0.4726732872223704, 0.20204223937869012, 0.20204223937869012, 0.20204223937869012, 0.40365018329144464, 0.9368693514467499, 0.8473168352530056, 0.20454121100320288, 0.40908242200640577, 0.665072894151649, 0.1838668828726034, 0.1838668828726034, 0.1838668828726034, 0.08054427104994649, 0.32217708419978597, 0.16108854209989298, 0.08054427104994649, 0.08054427104994649, 0.08054427104994649, 0.7866302097425342, 0.3192298666648376, 0.3192298666648376, 0.45698753073535764, 0.22849376536767882, 0.9231405937643349, 0.7619047306601429, 0.8157652521983408, 0.8746081094493664, 0.23161162731116663, 0.23161162731116663, 0.23161162731116663, 0.7287838158208543, 0.46635587587176347, 1.0275643847740428, 0.3392542043414146, 0.7741950771414661, 0.6461446446191123, 0.740135055484319, 0.90135373986519, 0.655309796428751, 0.27676685678689195, 0.5535337135737839, 0.6700808837091556, 0.23694729372726112, 0.23694729372726112, 0.7063505112515606, 0.21707710039190262, 0.21707710039190262, 0.10853855019595131, 0.10853855019595131, 0.10853855019595131, 0.10853855019595131, 0.10853855019595131, 0.23881268294576263, 0.23881268294576263, 0.6693776994765692, 0.20392158633148041, 0.6117647589944413, 0.6654611381318766, 0.5904683324653028, 0.23164605450125722, 0.46329210900251444, 0.4875412077942597, 0.5671358334189728, 0.7547328729812834, 0.8145900838571808, 0.8787595370080628, 0.5161013020591303, 0.5161013020591303, 0.19188922733284083, 0.19188922733284083, 0.19188922733284083, 0.5130886434799997, 0.17102954782666654, 0.5736305214503691, 0.5925261032496756, 0.42125078833066065, 0.43849193957067695, 0.4308099734699553, 0.7324472884568961, 0.7096887913933866, 0.47404352741254085, 0.9778399877393169, 1.0240970273683137, 0.495684008523687, 0.20176616413860538, 0.20176616413860538, 0.4308108451634378, 0.34599091600822957, 0.24034760807803804, 0.24034760807803804, 0.24034760807803804, 0.24034760807803804, 0.40401323577406134, 0.7906594828224431, 0.7682200545944609, 0.32942826263502734, 0.32942826263502734, 0.36866899214778975, 0.5720594413570625, 0.9875980043892366, 0.9846607452889851, 0.8227911480923876, 0.6089291993283616, 0.42870863299749296, 1.0092850246015599, 0.23488952961422788, 0.23488952961422788, 0.23488952961422788, 0.7775978522464622, 0.4345615299879059, 0.2847806922083035, 0.2847806922083035, 0.20720088695217836, 0.3108013304282675, 0.10360044347608918, 0.10360044347608918, 0.10360044347608918, 0.10360044347608918, 0.5224815581537309, 0.8168034998741317, 0.5477674376393776, 0.5092184345469603, 0.35925656797977273, 0.7194068290372498, 0.866828110615992, 0.7619236618501454, 0.4958574882558, 0.3504332964842418, 0.492483993422435, 0.6048208612374195, 0.6048208612374195, 0.43356198970027643, 0.43356198970027643, 0.7790404100757723, 0.7615615224439932, 0.5743498986366397, 0.6612040997349289, 0.500224365205892, 0.795224538324179, 0.8217369072710778, 0.6984713708599639, 0.5741014558612577, 0.33744562923741467, 0.33744562923741467, 0.5541626877386481, 0.44617023589197147, 0.4901009069352522, 0.35682205142193796, 0.35682205142193796, 0.6385879340275279, 0.6567197459683569, 0.32960798892156973, 0.920149076645745, 0.4251218882152022, 0.2125609441076011, 0.9804414887996101, 0.6250597198975275, 0.5031736963887875, 0.37067573554602307, 0.7286403237717318, 0.19717501845201763, 0.19717501845201763, 0.19717501845201763, 0.19717501845201763, 0.3332147448159823, 1.006971759585649, 0.9653239395141616, 0.3428811775387732, 0.3428811775387732, 0.5646953206326465, 0.28234766031632325, 1.0029707344736103, 0.4272589295641079, 0.21362946478205394, 0.30654582814147985, 0.27934695648666646, 0.13967347824333323, 0.13967347824333323, 0.13967347824333323, 0.13967347824333323, 0.810536255523557, 0.700567190069006, 0.8919277447453824, 0.867800946295569, 0.06689515417873035, 0.20068546253619104, 0.06689515417873035, 0.1337903083574607, 0.06689515417873035, 0.06689515417873035, 0.06689515417873035, 0.06689515417873035, 0.06689515417873035, 0.06689515417873035, 0.06689515417873035, 0.06689515417873035, 1.0200829571032632, 0.6705351939393066, 0.39772979997232, 0.8684623373718563, 0.7628860025801616, 0.5353501526866268, 0.16558856936799982, 0.49676570810399945, 0.16558856936799982, 0.6295100731641208, 0.511592568262697, 0.5644857267381371, 0.3755153669609618, 0.5765317412498003, 0.10610259604682515, 0.2122051920936503, 0.2122051920936503, 0.10610259604682515, 0.10610259604682515, 0.2122051920936503, 0.14179794173069177, 0.28359588346138354, 0.14179794173069177, 0.14179794173069177, 0.3026201078397825, 0.3026201078397825], \"Term\": [\"abondement\", \"accompagnement\", \"actif\", \"agr\\u00e9able\", \"ambiance\", \"ambiance\", \"ambiance\", \"ambiance\", \"ambiance\", \"ambiance\", \"ambiance\", \"ambiance\", \"analyse\", \"analyse\", \"atmosph\\u00e8re\", \"autonomie\", \"autonomie\", \"avantages\", \"avantages\", \"avantages\", \"banque\", \"bel\", \"belle\", \"bienveillance\", \"bienveillance\", \"bienveillant\", \"bon\", \"bon\", \"bon\", \"bonne\", \"bonne\", \"bonne\", \"bonne\", \"bonne\", \"bonne\", \"bons\", \"bpifrance\", \"bpifrance\", \"cadre\", \"cadre\", \"carriere\", \"chaleureuse\", \"ch\\u00e8ques\", \"clair\", \"collaborateurs\", \"collaborateurs\", \"collaborateurs\", \"comit\\u00e9\", \"comp\\u00e9tences\", \"concern\\u00e9e\", \"confiance\", \"convivialit\\u00e9\", \"culture\", \"deal\", \"degr\\u00e9\", \"disponibilit\\u00e9\", \"diversit\\u00e9\", \"diversit\\u00e9\", \"dossiers\", \"dynamique\", \"dynamique\", \"ecosystemeteamambiance\", \"entreprise\", \"entreprise\", \"entreprise\", \"entreprise\", \"entreprise\", \"entreprise\", \"entreprise\", \"environnement\", \"environnement\", \"equilibre\", \"esprit\", \"esprit\", \"excellente\", \"exposition\", \"exp\\u00e9rience\", \"exp\\u00e9rience\", \"faible\", \"financi\\u00e8re\", \"flexibilit\\u00e9\", \"flow\", \"fonctionnement\", \"formateur\", \"formateur\", \"formation\", \"formation\", \"formation\", \"formations\", \"formations\", \"formatrice\", \"forte\", \"grande\", \"g\\u00e9n\\u00e9ral\", \"horaires\", \"humaine\", \"id\\u00e9al\", \"implication\", \"impliqu\\u00e9\", \"inconvenients\", \"inconv\\u00e9nient\", \"inconv\\u00e9nients\", \"inconv\\u00e9nients\", \"innovation\", \"interne\", \"int\\u00e9gration\", \"int\\u00e9gration\", \"int\\u00e9gration\", \"int\\u00e9gration\", \"int\\u00e9ressant\", \"int\\u00e9ressantes\", \"int\\u00e9ressement\", \"int\\u00e9r\\u00eat\", \"int\\u00e9r\\u00eat\", \"investissement\", \"jeune\", \"jour\", \"journ\\u00e9e\", \"libert\\u00e9\", \"localisation\", \"locaux\", \"majeur\", \"management\", \"management\", \"management\", \"manag\\u00e9riale\", \"manque\", \"mission\", \"mission\", \"missions\", \"missions\", \"missions\", \"missions\", \"missions\", \"missions\", \"mobilit\\u00e9\", \"moment\", \"m\\u00e9tier\", \"opportunit\\u00e9s\", \"organisation\", \"ouverture\", \"participation\", \"perso\", \"perspectives\", \"politique\", \"positif\", \"positive\", \"positive\", \"possibilit\\u00e9\", \"possibilit\\u00e9\", \"prend\", \"prime\", \"primes\", \"priv\\u00e9\", \"priv\\u00e9e\", \"pro\", \"probl\\u00e9matiques\", \"professionnel\", \"programme\", \"projets\", \"projets\", \"propos\\u00e9es\", \"public\", \"qu\", \"qualit\\u00e9\", \"qualit\\u00e9\", \"responsabilisation\", \"responsabilit\\u00e9\", \"responsabilit\\u00e9s\", \"responsables\", \"rh\", \"rh\", \"rienb\", \"rtt\", \"r\\u00e9elle\", \"r\\u00e9mun\\u00e9ration\", \"r\\u00e9seau\", \"salaire\", \"salaire\", \"salaire\", \"salaire\", \"salaires\", \"satisfaction\", \"satisfaisant\", \"sens\", \"sens\", \"signaler\", \"signaler\", \"sp\\u00e9cial\", \"stage\", \"stage\", \"stagiaire\", \"stagiaires\", \"stagiaires\", \"stagiaires\", \"stagiaires\", \"stagiaires\", \"start\", \"suivi\", \"super\", \"trait\\u00e9s\", \"travail\", \"travail\", \"travail\", \"travail\", \"travail\", \"travail\", \"travail\", \"travail\", \"travail\", \"travail\", \"travail\", \"travail\", \"travaille\", \"travailler\", \"t\\u00e2ches\", \"up\", \"vari\\u00e9es\", \"vari\\u00e9t\\u00e9\", \"vie\", \"vie\", \"vie\", \"vois\", \"vraiment\", \"v\\u00e9ritable\", \"\\u00e9coute\", \"\\u00e9quilibre\", \"\\u00e9quipe\", \"\\u00e9quipe\", \"\\u00e9quipe\", \"\\u00e9quipe\", \"\\u00e9quipe\", \"\\u00e9quipe\", \"\\u00e9quipes\", \"\\u00e9quipes\", \"\\u00e9quipes\", \"\\u00e9quipes\", \"\\u00e9volution\", \"\\u00e9volution\"]}, \"R\": 30, \"lambda.step\": 0.01, \"plot.opts\": {\"xlab\": \"PC1\", \"ylab\": \"PC2\"}, \"topic.order\": [13, 15, 3, 5, 2, 7, 9, 4, 12, 19, 14, 8, 6, 10, 1, 17, 18, 20, 16, 11]};\n",
       "\n",
       "function LDAvis_load_lib(url, callback){\n",
       "  var s = document.createElement('script');\n",
       "  s.src = url;\n",
       "  s.async = true;\n",
       "  s.onreadystatechange = s.onload = callback;\n",
       "  s.onerror = function(){console.warn(\"failed to load library \" + url);};\n",
       "  document.getElementsByTagName(\"head\")[0].appendChild(s);\n",
       "}\n",
       "\n",
       "if(typeof(LDAvis) !== \"undefined\"){\n",
       "   // already loaded: just create the visualization\n",
       "   !function(LDAvis){\n",
       "       new LDAvis(\"#\" + \"ldavis_el217141401831112292561998762791\", ldavis_el217141401831112292561998762791_data);\n",
       "   }(LDAvis);\n",
       "}else if(typeof define === \"function\" && define.amd){\n",
       "   // require.js is available: use it to load d3/LDAvis\n",
       "   require.config({paths: {d3: \"https://cdnjs.cloudflare.com/ajax/libs/d3/3.5.5/d3.min\"}});\n",
       "   require([\"d3\"], function(d3){\n",
       "      window.d3 = d3;\n",
       "      LDAvis_load_lib(\"https://cdn.rawgit.com/bmabey/pyLDAvis/files/ldavis.v1.0.0.js\", function(){\n",
       "        new LDAvis(\"#\" + \"ldavis_el217141401831112292561998762791\", ldavis_el217141401831112292561998762791_data);\n",
       "      });\n",
       "    });\n",
       "}else{\n",
       "    // require.js not available: dynamically load d3 & LDAvis\n",
       "    LDAvis_load_lib(\"https://cdnjs.cloudflare.com/ajax/libs/d3/3.5.5/d3.min.js\", function(){\n",
       "         LDAvis_load_lib(\"https://cdn.rawgit.com/bmabey/pyLDAvis/files/ldavis.v1.0.0.js\", function(){\n",
       "                 new LDAvis(\"#\" + \"ldavis_el217141401831112292561998762791\", ldavis_el217141401831112292561998762791_data);\n",
       "            })\n",
       "         });\n",
       "}\n",
       "</script>"
      ],
      "text/plain": [
       "<IPython.core.display.HTML object>"
      ]
     },
     "execution_count": 36,
     "metadata": {},
     "output_type": "execute_result"
    }
   ],
   "source": [
    "from sklearn.decomposition import LatentDirichletAllocation\n",
    "import pyLDAvis\n",
    "from pyLDAvis import sklearn as sklearn_lda\n",
    "\n",
    "lda = LatentDirichletAllocation(20)\n",
    "lda.fit(X2)\n",
    "\n",
    "LDAvis_prepared = sklearn_lda.prepare(lda, X2, tfidf, mds='mmds')\n",
    "pyLDAvis.display(LDAvis_prepared)"
   ]
  },
  {
   "cell_type": "code",
   "execution_count": 37,
   "metadata": {},
   "outputs": [
    {
     "data": {
      "text/plain": [
       "(652, 200)"
      ]
     },
     "execution_count": 37,
     "metadata": {},
     "output_type": "execute_result"
    }
   ],
   "source": [
    "my_vect = Vectorizer(w2v = word2vec,normalize=False)\n",
    "\n",
    "X3 = my_vect.fit_transform(dataset2)\n",
    "X3.shape"
   ]
  },
  {
   "cell_type": "code",
   "execution_count": 38,
   "metadata": {},
   "outputs": [
    {
     "data": {
      "text/plain": [
       "(10, 200)"
      ]
     },
     "execution_count": 38,
     "metadata": {},
     "output_type": "execute_result"
    }
   ],
   "source": [
    "from sklearn.cluster import KMeans\n",
    "\n",
    "km = KMeans(n_clusters=10)\n",
    "km.fit(X)\n",
    "km.cluster_centers_.shape"
   ]
  },
  {
   "cell_type": "code",
   "execution_count": 40,
   "metadata": {},
   "outputs": [
    {
     "name": "stdout",
     "output_type": "stream",
     "text": [
      "[('mais', 0.7507932782173157), ('pas', 0.7325520515441895), ('car', 0.7301024198532104), ('pense', 0.715035617351532), ('bien', 0.7092244625091553), ('je', 0.7010645270347595), ('personnellement', 0.6972591876983643), ('crois', 0.6970868110656738), ('vraiment', 0.691512942314148), ('que', 0.6855081915855408)]\n",
      "[('formation', 0.7387077808380127), ('stagiaires', 0.6346427202224731), ('stagiaire', 0.6242548823356628), ('formateur', 0.6099908351898193), ('encadrement', 0.6077355146408081), ('compétences', 0.6075621843338013), ('managériales', 0.606357991695404), ('formations', 0.5961388349533081), ('formateurs', 0.5806623101234436), ('stage', 0.571410596370697)]\n",
      "[('travail', 0.6049221754074097), ('rémunération', 0.542938232421875), ('salaire', 0.5274859070777893), ('rémunéré', 0.5039302706718445), ('turnover', 0.4918438196182251), ('personnel', 0.4904201924800873), ('turn-over', 0.49020299315452576), ('employabilité', 0.48933741450309753), ('entreprise', 0.4869990646839142), ('salariés', 0.48455214500427246)]\n",
      "[('mais', 0.6436103582382202), ('aussi', 0.6241646409034729), ('surtout', 0.6123422384262085), ('forcément', 0.6102135181427002), ('évident', 0.6082682013511658), ('donc', 0.6037255525588989), ('cela', 0.5922289490699768), ('car', 0.5827975273132324), ('bien', 0.5742878913879395), ('beaucoup', 0.569854199886322)]\n",
      "[('ambiance', 0.8072932362556458), ('agréable', 0.7074235081672668), ('conviviale', 0.6756849884986877), ('sympathique', 0.6701052188873291), ('convivialité', 0.6559460163116455), ('chaleureuse', 0.648730993270874), ('bonne', 0.6193340420722961), ('détendue', 0.6069021224975586), ('convivial', 0.6001406311988831), ('excellente', 0.5893772840499878)]\n",
      "[('professionnalisme', 0.6055503487586975), ('managériales', 0.6043896675109863), ('polyvalence', 0.5894930362701416), ('valorisant', 0.5833076238632202), ('adaptabilité', 0.579473614692688), ('collaborateurs', 0.5791525840759277), ('et', 0.5707412958145142), ('réactivité', 0.5548591613769531), ('relationnel', 0.5523096323013306), ('implication', 0.5480419993400574)]\n",
      "[('intéressement', 0.8850634098052979), ('primes', 0.7044146060943604), ('abondement', 0.6551017761230469), ('rtt', 0.6525276899337769), ('rémunération', 0.6370135545730591), ('prime', 0.6272925734519958), ('rémunérations', 0.6236559152603149), ('salaire', 0.6169190406799316), ('annualisation', 0.5904827117919922), ('salariale', 0.5854109525680542)]\n",
      "[('intéressement', 0.8145207762718201), ('abondement', 0.7648919820785522), ('perco', 0.7636045813560486), ('pee', 0.7327229976654053), ('rtt', 0.6504334211349487), ('ppesv', 0.6299363374710083), ('salariale', 0.6037532091140747), ('salaire', 0.599214494228363), ('congés', 0.5942204594612122), ('épargne-temps', 0.5889390707015991)]\n",
      "[('signaler', 0.8929404020309448), ('jeanmarcbeaulieu', 0.5886438488960266), ('ladystardust', 0.5402876138687134), ('sylvainvoiry', 0.5318338871002197), ('mowglii', 0.517466127872467), ('robert-marchenoir', 0.5132584571838379), ('constructif', 0.49922120571136475), ('ichimaru', 0.4916782081127167), ('traversay', 0.4845336079597473), ('bondynoise', 0.48237040638923645)]\n",
      "[('salaire', 0.8378999829292297), ('salaires', 0.7788563966751099), ('smic', 0.6945855617523193), ('augmentations', 0.5817675590515137), ('smicard', 0.5731470584869385), ('rémunérations', 0.571914553642273), ('rémunération', 0.5717777609825134), ('salariale', 0.5423822402954102), ('smig', 0.5369458198547363), ('salariaux', 0.53473961353302)]\n"
     ]
    }
   ],
   "source": [
    "for center in km.cluster_centers_:\n",
    "    print(word2vec.similar_by_vector(center))"
   ]
  }
 ],
 "metadata": {
  "kernelspec": {
   "display_name": "Python 3",
   "language": "python",
   "name": "python3"
  },
  "language_info": {
   "codemirror_mode": {
    "name": "ipython",
    "version": 3
   },
   "file_extension": ".py",
   "mimetype": "text/x-python",
   "name": "python",
   "nbconvert_exporter": "python",
   "pygments_lexer": "ipython3",
   "version": "3.6.9"
  }
 },
 "nbformat": 4,
 "nbformat_minor": 4
}
